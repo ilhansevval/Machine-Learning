{
  "cells": [
    {
      "cell_type": "code",
      "execution_count": 1,
      "metadata": {
        "id": "MqIl9V5VpcWR"
      },
      "outputs": [],
      "source": [
        "import pandas as pd\n",
        "import numpy as np\n",
        "import matplotlib.pyplot as plt\n",
        "from sklearn.linear_model import LinearRegression"
      ]
    },
    {
      "cell_type": "code",
      "execution_count": 2,
      "metadata": {
        "id": "7jTjeELSpcWb"
      },
      "outputs": [],
      "source": [
        "df = pd.read_csv(\"multiple-linear-regression-dataset.csv\",sep = \";\") #df değişkenine dataset verileri aktarılır.\n",
        "\n",
        "x = df.iloc[:,[0,2]].values                 #x için tüm satırlar ve 0'dan 2'ye kadar olan sütunları almış.\n",
        "y = df.salary.values.reshape(-1,1)          #y için salary sütunu 1 tane olduğu için 1 yazıyor.-1 boyutu bilinmediğinde yazılır.\n",
        "\n"
      ]
    },
    {
      "cell_type": "code",
      "execution_count": null,
      "metadata": {
        "id": "ZGxNq79ZpcWd",
        "outputId": "81a4286d-191a-462d-eeb5-2160ea1313c0"
      },
      "outputs": [
        {
          "name": "stdout",
          "output_type": "stream",
          "text": [
            "b0:  [10376.62747228]\n",
            "b1,b2:  [[1525.50072054 -416.72218625]]\n"
          ]
        }
      ],
      "source": [
        "# %% fitting data\n",
        "multiple_linear_regression = LinearRegression()  \n",
        "multiple_linear_regression.fit(x,y)              #x ve y değerleri linear regresyon için fit ediliyor\n",
        "\n",
        "print(\"b0: \", multiple_linear_regression.intercept_)  #multiple regresyonda b0 bağımlı değişken intercept ile çağırılmış\n",
        "print(\"b1,b2: \",multiple_linear_regression.coef_)     #b1 ve b2 bağımsız değişken coef ile çağırılmışlar.\n",
        "\n"
      ]
    },
    {
      "cell_type": "code",
      "execution_count": null,
      "metadata": {
        "id": "4-fydPdKpcWg",
        "outputId": "64ac45c4-2e73-44cf-889f-bfd8a3654805"
      },
      "outputs": [
        {
          "data": {
            "text/plain": [
              "array([[11046.35815877],\n",
              "       [ 3418.85455609]])"
            ]
          },
          "execution_count": 19,
          "metadata": {},
          "output_type": "execute_result"
        }
      ],
      "source": [
        "# predict\n",
        "multiple_linear_regression.predict(np.array([[10,35],[5,35]]))  #linear regresyonda tahmin edilmiş."
      ]
    }
  ],
  "metadata": {
    "kernelspec": {
      "display_name": "Python 3",
      "language": "python",
      "name": "python3"
    },
    "language_info": {
      "codemirror_mode": {
        "name": "ipython",
        "version": 3
      },
      "file_extension": ".py",
      "mimetype": "text/x-python",
      "name": "python",
      "nbconvert_exporter": "python",
      "pygments_lexer": "ipython3",
      "version": "3.7.2"
    },
    "colab": {
      "name": "multiple_linear_regression.ipynb",
      "provenance": []
    }
  },
  "nbformat": 4,
  "nbformat_minor": 0
}