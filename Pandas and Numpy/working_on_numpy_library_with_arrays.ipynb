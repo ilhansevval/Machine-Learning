{
 "cells": [
  {
   "cell_type": "code",
   "execution_count": 1,
   "id": "101ebfb4",
   "metadata": {},
   "outputs": [
    {
     "name": "stdout",
     "output_type": "stream",
     "text": [
      "[1.2 2.4 3.5 4.7 6.1 7.2 8.3 9.5]\n",
      "[22 21 28 29 47 10]\n"
     ]
    }
   ],
   "source": [
    "import numpy as np #numpy library used for working with arrays.\n",
    "\n",
    "one_dimensional_array = np.array([1.2, 2.4, 3.5, 4.7, 6.1, 7.2, 8.3, 9.5])\n",
    "print(one_dimensional_array)\n",
    "\n",
    "std1 = np.array([22, 21, 28, 29, 47, 10])\n",
    "print(std1)                                    #examples of creating one dimensional array"
   ]
  },
  {
   "cell_type": "code",
   "execution_count": 2,
   "id": "4216ad6e",
   "metadata": {},
   "outputs": [
    {
     "name": "stdout",
     "output_type": "stream",
     "text": [
      "[[ 6  5]\n",
      " [11  7]\n",
      " [ 4  8]]\n",
      "[[11 22]\n",
      " [33 44]\n",
      " [55 66]\n",
      " [77 88]\n",
      " [99  0]]\n"
     ]
    }
   ],
   "source": [
    "two_dimensional_array = np.array([[6, 5], [11, 7], [4, 8]])\n",
    "print(two_dimensional_array)\n",
    "\n",
    "std2 = np.array([[11, 22], [33, 44], [55, 66],[77, 88] , [99, 0]])\n",
    "print(std2)                                   #examples of creating two dimensional array"
   ]
  },
  {
   "cell_type": "code",
   "execution_count": 3,
   "id": "eb1b3cf6",
   "metadata": {},
   "outputs": [
    {
     "name": "stdout",
     "output_type": "stream",
     "text": [
      "[ 5  6  7  8  9 10 11]\n",
      "[  1   2   3   4   5   6   7   8   9  10  11  12  13  14  15  16  17  18\n",
      "  19  20  21  22  23  24  25  26  27  28  29  30  31  32  33  34  35  36\n",
      "  37  38  39  40  41  42  43  44  45  46  47  48  49  50  51  52  53  54\n",
      "  55  56  57  58  59  60  61  62  63  64  65  66  67  68  69  70  71  72\n",
      "  73  74  75  76  77  78  79  80  81  82  83  84  85  86  87  88  89  90\n",
      "  91  92  93  94  95  96  97  98  99 100]\n"
     ]
    }
   ],
   "source": [
    "sequence_of_integers = np.arange(5, 12)\n",
    "print(sequence_of_integers)\n",
    "\n",
    "std3 = np.arange(1, 101)\n",
    "print(std3)                                   #its an array of returning numbers between specified values (1 to 100)"
   ]
  },
  {
   "cell_type": "code",
   "execution_count": 4,
   "id": "61c4942d",
   "metadata": {},
   "outputs": [
    {
     "name": "stdout",
     "output_type": "stream",
     "text": [
      "[64 99 78 91 87 89]\n",
      "[1 2 2 2 1 2 2 1 1 2 1 2 1 1 1 1 1 1 2 1 1 1 2 1 2 1 1 1 1 2]\n"
     ]
    }
   ],
   "source": [
    "random_integers_between_50_and_100 = np.random.randint(low=50, high=101, size=(6))\n",
    "print(random_integers_between_50_and_100) \n",
    "\n",
    "std4 = np.random.randint(low=1, high=3, size=(30))\n",
    "print(std4)                                   #giving values with an array that starts 1 until 3\n"
   ]
  },
  {
   "cell_type": "code",
   "execution_count": 5,
   "id": "e1259d1a",
   "metadata": {},
   "outputs": [
    {
     "name": "stdout",
     "output_type": "stream",
     "text": [
      "[0.40278997 0.94760386 0.7588702  0.42713482 0.67621143 0.55822638]\n",
      "[0.72843011 0.48036534 0.38639531 0.15817668 0.8070929  0.35283454\n",
      " 0.00677669 0.54502903 0.85795847 0.13132425]\n"
     ]
    }
   ],
   "source": [
    "random_floats_between_0_and_1 = np.random.random([6])\n",
    "print(random_floats_between_0_and_1) \n",
    "\n",
    "std5 = np.random.random([10])\n",
    "print(std5)                                   #random.random gives random values just between 0 to 1"
   ]
  },
  {
   "cell_type": "code",
   "execution_count": 6,
   "id": "9f3700a2",
   "metadata": {},
   "outputs": [
    {
     "name": "stdout",
     "output_type": "stream",
     "text": [
      "[2.40278997 2.94760386 2.7588702  2.42713482 2.67621143 2.55822638]\n",
      "[10.82475384 10.75049341 10.7986594 ]\n"
     ]
    }
   ],
   "source": [
    "random_floats_between_2_and_3 = random_floats_between_0_and_1 + 2.0\n",
    "print(random_floats_between_2_and_3) \n",
    "\n",
    "std6=np.random.uniform(low=0.0, high=1.0, size=3)+10.0\n",
    "print(std6)                                  #np.random.uniform making same thing with pass example\n"
   ]
  },
  {
   "cell_type": "code",
   "execution_count": 7,
   "id": "1c5636a1",
   "metadata": {},
   "outputs": [
    {
     "name": "stdout",
     "output_type": "stream",
     "text": [
      "[192 297 234 273 261 267]\n",
      "[0 2 3 2 3]\n",
      "[[7 5 0]\n",
      " [3 2 7]\n",
      " [7 1 8]]\n"
     ]
    }
   ],
   "source": [
    "random_integers_between_150_and_300 = random_integers_between_50_and_100 * 3\n",
    "print(random_integers_between_150_and_300)\n",
    "\n",
    "std7=np.random.randint(5, size=5)\n",
    "print(std7)                                 #np.random.randint returns integer values 0 to 5 with 1x5 array\n",
    "           \n",
    "std8=np.random.randint(10, size=(3, 3))\n",
    "print(std8)                                 #np.random.randint returns integer values 0 to 2 with 3x3 array"
   ]
  },
  {
   "cell_type": "code",
   "execution_count": 9,
   "id": "1439265d",
   "metadata": {},
   "outputs": [
    {
     "name": "stdout",
     "output_type": "stream",
     "text": [
      "[ 6  7  8  9 10 11 12 13 14 15 16 17 18 19 20]\n",
      "[22 25 28 31 34 37 40 43 46 49 52 55 58 61 64]\n"
     ]
    }
   ],
   "source": [
    "feature = np.arange(6, 21)                  #examples of arithmetic operations \n",
    "print(feature)\n",
    "label = (feature * 3) + 4\n",
    "print(label)\n"
   ]
  },
  {
   "cell_type": "code",
   "execution_count": 10,
   "id": "836311de",
   "metadata": {},
   "outputs": [
    {
     "name": "stdout",
     "output_type": "stream",
     "text": [
      "[-0.75197587  0.46765356  0.05887356 -0.17996653  0.13398686 -0.98949241\n",
      " -1.4324217  -0.09140766  0.5513962  -0.13711785  1.87570512  0.23572355\n",
      " -1.78122731 -1.45439272  1.43309105]\n",
      "[21.24802413 25.46765356 28.05887356 30.82003347 34.13398686 36.01050759\n",
      " 38.5675783  42.90859234 46.5513962  48.86288215 53.87570512 55.23572355\n",
      " 56.21877269 59.54560728 65.43309105]\n"
     ]
    }
   ],
   "source": [
    "noise = (np.random.random([15]) * 4) - 2\n",
    "print(noise)\n",
    "label = label + noise \n",
    "print(label)"
   ]
  },
  {
   "cell_type": "code",
   "execution_count": null,
   "id": "5e78a8af",
   "metadata": {},
   "outputs": [],
   "source": []
  }
 ],
 "metadata": {
  "kernelspec": {
   "display_name": "Python 3 (ipykernel)",
   "language": "python",
   "name": "python3"
  },
  "language_info": {
   "codemirror_mode": {
    "name": "ipython",
    "version": 3
   },
   "file_extension": ".py",
   "mimetype": "text/x-python",
   "name": "python",
   "nbconvert_exporter": "python",
   "pygments_lexer": "ipython3",
   "version": "3.9.7"
  }
 },
 "nbformat": 4,
 "nbformat_minor": 5
}
