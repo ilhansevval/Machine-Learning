{
  "nbformat": 4,
  "nbformat_minor": 0,
  "metadata": {
    "colab": {
      "name": "naive_bayes.ipynb",
      "provenance": [],
      "collapsed_sections": []
    },
    "kernelspec": {
      "name": "python3",
      "display_name": "Python 3"
    },
    "language_info": {
      "name": "python"
    }
  },
  "cells": [
    {
      "cell_type": "markdown",
      "source": [
        "# **Naive Bayes Classification** "
      ],
      "metadata": {
        "id": "kcvKtCNKUg_A"
      }
    },
    {
      "cell_type": "markdown",
      "source": [
        "Naive Bayes algoritmasının temeli Bayes teoremine dayanır ve classification problemleri için kullanılır.\n",
        "\n",
        "Olasılıksal bir sınıflandırıcıdır. Bir eleman için her durumun olasılığını hesaplar ve olasılık değeri en yüksek olana göre sınıflandırır.\n"
      ],
      "metadata": {
        "id": "S6MkXkjFPxY0"
      }
    },
    {
      "cell_type": "markdown",
      "source": [
        "Bayes Formülü;\n",
        "\n",
        "![image.png](data:image/png;base64,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)"
      ],
      "metadata": {
        "id": "8hkDliuGQymB"
      }
    },
    {
      "cell_type": "markdown",
      "source": [
        "**P(A|B)** =  B olayı gerçekleştiğinde A olayının gerçekleşme olasılığı -> (**posterior probability**)\n",
        "\n",
        "**P(A)**   = A olayının gerçekleşme olasılığı -> (**prior probability**)\n",
        "\n",
        "**P(B|A)** = A olayı gerçekleştiğinde B olayının gerçekleşme olasılığı -> (**likelihood**)\n",
        "\n",
        "**P(B)**   = B olayının gerçekleşme olasılığı -> (**marginal likelihood**)"
      ],
      "metadata": {
        "id": "HlitP19PQ2n2"
      }
    },
    {
      "cell_type": "markdown",
      "source": [
        "Her feature birbirinden bağımsız kabul edildiği için **naive** denir.  \n",
        "\n",
        "Bayes teoremini kullandığı için **bayes** denir."
      ],
      "metadata": {
        "id": "Fd9G4C6TRj8c"
      }
    },
    {
      "cell_type": "markdown",
      "source": [
        "**Gaussian Naive Bayes:** Eğer featurelar continuous value ise model verilerin normal distribution'a göre örneklendiği varsayılır.\n",
        "\n",
        "**Multinominal Naive Bayes:** Çok sınıflı kategorileri sınıflandırmak için kullanılır.\n",
        "\n",
        "**Bernoulli Naive Bayes:** Multinominal Naive Bayes’e benzer şekilde sınıflandırma yapar. Ancak predictionlar Evet/Hayır, Spam/Spam Değil, 1/0, Var/Yok gibi boolean şeklindedir."
      ],
      "metadata": {
        "id": "Ob1RFVOrS4Rj"
      }
    },
    {
      "cell_type": "code",
      "execution_count": null,
      "metadata": {
        "colab": {
          "base_uri": "https://localhost:8080/"
        },
        "id": "BzV5O1v9PTbf",
        "outputId": "82c7b666-7373-4738-9116-5d8ffe210cbb"
      },
      "outputs": [
        {
          "output_type": "stream",
          "name": "stdout",
          "text": [
            "Mounted at /content/drive\n"
          ]
        }
      ],
      "source": [
        "import pandas as pd\n",
        "import matplotlib.pyplot as plt\n",
        "import numpy as np\n",
        "import seaborn as sns\n",
        "\n",
        "from google.colab import drive\n",
        "drive.mount('/content/drive')"
      ]
    },
    {
      "cell_type": "code",
      "source": [
        "data = pd.read_csv(\"/content/drive/MyDrive/data/data.csv\")"
      ],
      "metadata": {
        "id": "85Jo0WqvU80Q"
      },
      "execution_count": null,
      "outputs": []
    },
    {
      "cell_type": "code",
      "source": [
        "data.head()"
      ],
      "metadata": {
        "colab": {
          "base_uri": "https://localhost:8080/",
          "height": 317
        },
        "id": "AAxWvQ1aU_fL",
        "outputId": "c61f5b2d-bc10-4296-fdda-e5f04fbf796a"
      },
      "execution_count": null,
      "outputs": [
        {
          "output_type": "execute_result",
          "data": {
            "text/plain": [
              "         id diagnosis  radius_mean  texture_mean  perimeter_mean  area_mean  \\\n",
              "0    842302         M        17.99         10.38          122.80     1001.0   \n",
              "1    842517         M        20.57         17.77          132.90     1326.0   \n",
              "2  84300903         M        19.69         21.25          130.00     1203.0   \n",
              "3  84348301         M        11.42         20.38           77.58      386.1   \n",
              "4  84358402         M        20.29         14.34          135.10     1297.0   \n",
              "\n",
              "   smoothness_mean  compactness_mean  concavity_mean  concave points_mean  \\\n",
              "0          0.11840           0.27760          0.3001              0.14710   \n",
              "1          0.08474           0.07864          0.0869              0.07017   \n",
              "2          0.10960           0.15990          0.1974              0.12790   \n",
              "3          0.14250           0.28390          0.2414              0.10520   \n",
              "4          0.10030           0.13280          0.1980              0.10430   \n",
              "\n",
              "   ...  texture_worst  perimeter_worst  area_worst  smoothness_worst  \\\n",
              "0  ...          17.33           184.60      2019.0            0.1622   \n",
              "1  ...          23.41           158.80      1956.0            0.1238   \n",
              "2  ...          25.53           152.50      1709.0            0.1444   \n",
              "3  ...          26.50            98.87       567.7            0.2098   \n",
              "4  ...          16.67           152.20      1575.0            0.1374   \n",
              "\n",
              "   compactness_worst  concavity_worst  concave points_worst  symmetry_worst  \\\n",
              "0             0.6656           0.7119                0.2654          0.4601   \n",
              "1             0.1866           0.2416                0.1860          0.2750   \n",
              "2             0.4245           0.4504                0.2430          0.3613   \n",
              "3             0.8663           0.6869                0.2575          0.6638   \n",
              "4             0.2050           0.4000                0.1625          0.2364   \n",
              "\n",
              "   fractal_dimension_worst  Unnamed: 32  \n",
              "0                  0.11890          NaN  \n",
              "1                  0.08902          NaN  \n",
              "2                  0.08758          NaN  \n",
              "3                  0.17300          NaN  \n",
              "4                  0.07678          NaN  \n",
              "\n",
              "[5 rows x 33 columns]"
            ],
            "text/html": [
              "\n",
              "  <div id=\"df-f33f604c-d3d1-41f1-90bc-1e39a3cc5bbb\">\n",
              "    <div class=\"colab-df-container\">\n",
              "      <div>\n",
              "<style scoped>\n",
              "    .dataframe tbody tr th:only-of-type {\n",
              "        vertical-align: middle;\n",
              "    }\n",
              "\n",
              "    .dataframe tbody tr th {\n",
              "        vertical-align: top;\n",
              "    }\n",
              "\n",
              "    .dataframe thead th {\n",
              "        text-align: right;\n",
              "    }\n",
              "</style>\n",
              "<table border=\"1\" class=\"dataframe\">\n",
              "  <thead>\n",
              "    <tr style=\"text-align: right;\">\n",
              "      <th></th>\n",
              "      <th>id</th>\n",
              "      <th>diagnosis</th>\n",
              "      <th>radius_mean</th>\n",
              "      <th>texture_mean</th>\n",
              "      <th>perimeter_mean</th>\n",
              "      <th>area_mean</th>\n",
              "      <th>smoothness_mean</th>\n",
              "      <th>compactness_mean</th>\n",
              "      <th>concavity_mean</th>\n",
              "      <th>concave points_mean</th>\n",
              "      <th>...</th>\n",
              "      <th>texture_worst</th>\n",
              "      <th>perimeter_worst</th>\n",
              "      <th>area_worst</th>\n",
              "      <th>smoothness_worst</th>\n",
              "      <th>compactness_worst</th>\n",
              "      <th>concavity_worst</th>\n",
              "      <th>concave points_worst</th>\n",
              "      <th>symmetry_worst</th>\n",
              "      <th>fractal_dimension_worst</th>\n",
              "      <th>Unnamed: 32</th>\n",
              "    </tr>\n",
              "  </thead>\n",
              "  <tbody>\n",
              "    <tr>\n",
              "      <th>0</th>\n",
              "      <td>842302</td>\n",
              "      <td>M</td>\n",
              "      <td>17.99</td>\n",
              "      <td>10.38</td>\n",
              "      <td>122.80</td>\n",
              "      <td>1001.0</td>\n",
              "      <td>0.11840</td>\n",
              "      <td>0.27760</td>\n",
              "      <td>0.3001</td>\n",
              "      <td>0.14710</td>\n",
              "      <td>...</td>\n",
              "      <td>17.33</td>\n",
              "      <td>184.60</td>\n",
              "      <td>2019.0</td>\n",
              "      <td>0.1622</td>\n",
              "      <td>0.6656</td>\n",
              "      <td>0.7119</td>\n",
              "      <td>0.2654</td>\n",
              "      <td>0.4601</td>\n",
              "      <td>0.11890</td>\n",
              "      <td>NaN</td>\n",
              "    </tr>\n",
              "    <tr>\n",
              "      <th>1</th>\n",
              "      <td>842517</td>\n",
              "      <td>M</td>\n",
              "      <td>20.57</td>\n",
              "      <td>17.77</td>\n",
              "      <td>132.90</td>\n",
              "      <td>1326.0</td>\n",
              "      <td>0.08474</td>\n",
              "      <td>0.07864</td>\n",
              "      <td>0.0869</td>\n",
              "      <td>0.07017</td>\n",
              "      <td>...</td>\n",
              "      <td>23.41</td>\n",
              "      <td>158.80</td>\n",
              "      <td>1956.0</td>\n",
              "      <td>0.1238</td>\n",
              "      <td>0.1866</td>\n",
              "      <td>0.2416</td>\n",
              "      <td>0.1860</td>\n",
              "      <td>0.2750</td>\n",
              "      <td>0.08902</td>\n",
              "      <td>NaN</td>\n",
              "    </tr>\n",
              "    <tr>\n",
              "      <th>2</th>\n",
              "      <td>84300903</td>\n",
              "      <td>M</td>\n",
              "      <td>19.69</td>\n",
              "      <td>21.25</td>\n",
              "      <td>130.00</td>\n",
              "      <td>1203.0</td>\n",
              "      <td>0.10960</td>\n",
              "      <td>0.15990</td>\n",
              "      <td>0.1974</td>\n",
              "      <td>0.12790</td>\n",
              "      <td>...</td>\n",
              "      <td>25.53</td>\n",
              "      <td>152.50</td>\n",
              "      <td>1709.0</td>\n",
              "      <td>0.1444</td>\n",
              "      <td>0.4245</td>\n",
              "      <td>0.4504</td>\n",
              "      <td>0.2430</td>\n",
              "      <td>0.3613</td>\n",
              "      <td>0.08758</td>\n",
              "      <td>NaN</td>\n",
              "    </tr>\n",
              "    <tr>\n",
              "      <th>3</th>\n",
              "      <td>84348301</td>\n",
              "      <td>M</td>\n",
              "      <td>11.42</td>\n",
              "      <td>20.38</td>\n",
              "      <td>77.58</td>\n",
              "      <td>386.1</td>\n",
              "      <td>0.14250</td>\n",
              "      <td>0.28390</td>\n",
              "      <td>0.2414</td>\n",
              "      <td>0.10520</td>\n",
              "      <td>...</td>\n",
              "      <td>26.50</td>\n",
              "      <td>98.87</td>\n",
              "      <td>567.7</td>\n",
              "      <td>0.2098</td>\n",
              "      <td>0.8663</td>\n",
              "      <td>0.6869</td>\n",
              "      <td>0.2575</td>\n",
              "      <td>0.6638</td>\n",
              "      <td>0.17300</td>\n",
              "      <td>NaN</td>\n",
              "    </tr>\n",
              "    <tr>\n",
              "      <th>4</th>\n",
              "      <td>84358402</td>\n",
              "      <td>M</td>\n",
              "      <td>20.29</td>\n",
              "      <td>14.34</td>\n",
              "      <td>135.10</td>\n",
              "      <td>1297.0</td>\n",
              "      <td>0.10030</td>\n",
              "      <td>0.13280</td>\n",
              "      <td>0.1980</td>\n",
              "      <td>0.10430</td>\n",
              "      <td>...</td>\n",
              "      <td>16.67</td>\n",
              "      <td>152.20</td>\n",
              "      <td>1575.0</td>\n",
              "      <td>0.1374</td>\n",
              "      <td>0.2050</td>\n",
              "      <td>0.4000</td>\n",
              "      <td>0.1625</td>\n",
              "      <td>0.2364</td>\n",
              "      <td>0.07678</td>\n",
              "      <td>NaN</td>\n",
              "    </tr>\n",
              "  </tbody>\n",
              "</table>\n",
              "<p>5 rows × 33 columns</p>\n",
              "</div>\n",
              "      <button class=\"colab-df-convert\" onclick=\"convertToInteractive('df-f33f604c-d3d1-41f1-90bc-1e39a3cc5bbb')\"\n",
              "              title=\"Convert this dataframe to an interactive table.\"\n",
              "              style=\"display:none;\">\n",
              "        \n",
              "  <svg xmlns=\"http://www.w3.org/2000/svg\" height=\"24px\"viewBox=\"0 0 24 24\"\n",
              "       width=\"24px\">\n",
              "    <path d=\"M0 0h24v24H0V0z\" fill=\"none\"/>\n",
              "    <path d=\"M18.56 5.44l.94 2.06.94-2.06 2.06-.94-2.06-.94-.94-2.06-.94 2.06-2.06.94zm-11 1L8.5 8.5l.94-2.06 2.06-.94-2.06-.94L8.5 2.5l-.94 2.06-2.06.94zm10 10l.94 2.06.94-2.06 2.06-.94-2.06-.94-.94-2.06-.94 2.06-2.06.94z\"/><path d=\"M17.41 7.96l-1.37-1.37c-.4-.4-.92-.59-1.43-.59-.52 0-1.04.2-1.43.59L10.3 9.45l-7.72 7.72c-.78.78-.78 2.05 0 2.83L4 21.41c.39.39.9.59 1.41.59.51 0 1.02-.2 1.41-.59l7.78-7.78 2.81-2.81c.8-.78.8-2.07 0-2.86zM5.41 20L4 18.59l7.72-7.72 1.47 1.35L5.41 20z\"/>\n",
              "  </svg>\n",
              "      </button>\n",
              "      \n",
              "  <style>\n",
              "    .colab-df-container {\n",
              "      display:flex;\n",
              "      flex-wrap:wrap;\n",
              "      gap: 12px;\n",
              "    }\n",
              "\n",
              "    .colab-df-convert {\n",
              "      background-color: #E8F0FE;\n",
              "      border: none;\n",
              "      border-radius: 50%;\n",
              "      cursor: pointer;\n",
              "      display: none;\n",
              "      fill: #1967D2;\n",
              "      height: 32px;\n",
              "      padding: 0 0 0 0;\n",
              "      width: 32px;\n",
              "    }\n",
              "\n",
              "    .colab-df-convert:hover {\n",
              "      background-color: #E2EBFA;\n",
              "      box-shadow: 0px 1px 2px rgba(60, 64, 67, 0.3), 0px 1px 3px 1px rgba(60, 64, 67, 0.15);\n",
              "      fill: #174EA6;\n",
              "    }\n",
              "\n",
              "    [theme=dark] .colab-df-convert {\n",
              "      background-color: #3B4455;\n",
              "      fill: #D2E3FC;\n",
              "    }\n",
              "\n",
              "    [theme=dark] .colab-df-convert:hover {\n",
              "      background-color: #434B5C;\n",
              "      box-shadow: 0px 1px 3px 1px rgba(0, 0, 0, 0.15);\n",
              "      filter: drop-shadow(0px 1px 2px rgba(0, 0, 0, 0.3));\n",
              "      fill: #FFFFFF;\n",
              "    }\n",
              "  </style>\n",
              "\n",
              "      <script>\n",
              "        const buttonEl =\n",
              "          document.querySelector('#df-f33f604c-d3d1-41f1-90bc-1e39a3cc5bbb button.colab-df-convert');\n",
              "        buttonEl.style.display =\n",
              "          google.colab.kernel.accessAllowed ? 'block' : 'none';\n",
              "\n",
              "        async function convertToInteractive(key) {\n",
              "          const element = document.querySelector('#df-f33f604c-d3d1-41f1-90bc-1e39a3cc5bbb');\n",
              "          const dataTable =\n",
              "            await google.colab.kernel.invokeFunction('convertToInteractive',\n",
              "                                                     [key], {});\n",
              "          if (!dataTable) return;\n",
              "\n",
              "          const docLinkHtml = 'Like what you see? Visit the ' +\n",
              "            '<a target=\"_blank\" href=https://colab.research.google.com/notebooks/data_table.ipynb>data table notebook</a>'\n",
              "            + ' to learn more about interactive tables.';\n",
              "          element.innerHTML = '';\n",
              "          dataTable['output_type'] = 'display_data';\n",
              "          await google.colab.output.renderOutput(dataTable, element);\n",
              "          const docLink = document.createElement('div');\n",
              "          docLink.innerHTML = docLinkHtml;\n",
              "          element.appendChild(docLink);\n",
              "        }\n",
              "      </script>\n",
              "    </div>\n",
              "  </div>\n",
              "  "
            ]
          },
          "metadata": {},
          "execution_count": 28
        }
      ]
    },
    {
      "cell_type": "markdown",
      "source": [
        "Data kanserin iyi huylu mu, kötü huylu mu olduğunu gösterir.\n",
        "\n",
        "Diagnosis sütununda bulunan 'M' harfi malignant kötü huylu demektir.\n",
        "\n",
        "'B' harfi benign iyi huylu tümör demektir."
      ],
      "metadata": {
        "id": "BOtjL8PcVFQI"
      }
    },
    {
      "cell_type": "code",
      "source": [
        "data.info()"
      ],
      "metadata": {
        "colab": {
          "base_uri": "https://localhost:8080/"
        },
        "id": "Qjjve-XXVGUQ",
        "outputId": "015afe34-e46d-4f78-cf74-134f8b92ac5f"
      },
      "execution_count": null,
      "outputs": [
        {
          "output_type": "stream",
          "name": "stdout",
          "text": [
            "<class 'pandas.core.frame.DataFrame'>\n",
            "RangeIndex: 569 entries, 0 to 568\n",
            "Data columns (total 33 columns):\n",
            " #   Column                   Non-Null Count  Dtype  \n",
            "---  ------                   --------------  -----  \n",
            " 0   id                       569 non-null    int64  \n",
            " 1   diagnosis                569 non-null    object \n",
            " 2   radius_mean              569 non-null    float64\n",
            " 3   texture_mean             569 non-null    float64\n",
            " 4   perimeter_mean           569 non-null    float64\n",
            " 5   area_mean                569 non-null    float64\n",
            " 6   smoothness_mean          569 non-null    float64\n",
            " 7   compactness_mean         569 non-null    float64\n",
            " 8   concavity_mean           569 non-null    float64\n",
            " 9   concave points_mean      569 non-null    float64\n",
            " 10  symmetry_mean            569 non-null    float64\n",
            " 11  fractal_dimension_mean   569 non-null    float64\n",
            " 12  radius_se                569 non-null    float64\n",
            " 13  texture_se               569 non-null    float64\n",
            " 14  perimeter_se             569 non-null    float64\n",
            " 15  area_se                  569 non-null    float64\n",
            " 16  smoothness_se            569 non-null    float64\n",
            " 17  compactness_se           569 non-null    float64\n",
            " 18  concavity_se             569 non-null    float64\n",
            " 19  concave points_se        569 non-null    float64\n",
            " 20  symmetry_se              569 non-null    float64\n",
            " 21  fractal_dimension_se     569 non-null    float64\n",
            " 22  radius_worst             569 non-null    float64\n",
            " 23  texture_worst            569 non-null    float64\n",
            " 24  perimeter_worst          569 non-null    float64\n",
            " 25  area_worst               569 non-null    float64\n",
            " 26  smoothness_worst         569 non-null    float64\n",
            " 27  compactness_worst        569 non-null    float64\n",
            " 28  concavity_worst          569 non-null    float64\n",
            " 29  concave points_worst     569 non-null    float64\n",
            " 30  symmetry_worst           569 non-null    float64\n",
            " 31  fractal_dimension_worst  569 non-null    float64\n",
            " 32  Unnamed: 32              0 non-null      float64\n",
            "dtypes: float64(31), int64(1), object(1)\n",
            "memory usage: 146.8+ KB\n"
          ]
        }
      ]
    },
    {
      "cell_type": "markdown",
      "source": [
        "Datada 569 sample bulunmaktadır.\n",
        "\n",
        "33 sütun bulunmakta, bu sütunların 31 tanesi float değer, 1 tanesi integer değer, 1 tanesi de string değer bulundurmaktadır.\n",
        "\n",
        "'Unnamed: 32' sütunundaki değerlerin hepsinin missing value olduğu görülür.\n",
        "\n",
        "Model oluşturulurken 'id' ve 'Unnamed: 32' sütunları sınıflandırmada bir etkisi olmayacağından kullanılmayacaktır."
      ],
      "metadata": {
        "id": "SEnDlctIVK0k"
      }
    },
    {
      "cell_type": "code",
      "source": [
        "data.drop([\"Unnamed: 32\",\"id\"],axis=1, inplace=True)\n",
        "#axis=1 olduğunda sütun drop edilir.\n",
        "#inplace=True olduğunda yapılan değişiklik dataya kaydedilir."
      ],
      "metadata": {
        "id": "rkAKxNWHVLmK"
      },
      "execution_count": null,
      "outputs": []
    },
    {
      "cell_type": "markdown",
      "source": [
        "İyi huylu ve kötü huylu tümörün görselleştirilmesi için birbirinden ayrılması gerekir."
      ],
      "metadata": {
        "id": "2oOJbsqyVQk2"
      }
    },
    {
      "cell_type": "code",
      "source": [
        "M = data[data.diagnosis==\"M\"]\n",
        "B = data[data.diagnosis==\"B\"]"
      ],
      "metadata": {
        "id": "MDBIe0UxVOXJ"
      },
      "execution_count": null,
      "outputs": []
    },
    {
      "cell_type": "code",
      "source": [
        "plt.scatter(M.radius_mean,M.texture_mean,color=\"red\",label=\"malignant\") \n",
        "plt.scatter(B.radius_mean,B.texture_mean,color=\"green\",label=\"benign\")\n",
        "plt.xlabel(\"radius_mean\")\n",
        "plt.ylabel(\"texture_mean\")\n",
        "plt.legend()\n",
        "plt.show()"
      ],
      "metadata": {
        "colab": {
          "base_uri": "https://localhost:8080/",
          "height": 280
        },
        "id": "pgjyBYvgVkta",
        "outputId": "9d39814a-ba0b-4c70-bddf-82865884298e"
      },
      "execution_count": null,
      "outputs": [
        {
          "output_type": "display_data",
          "data": {
            "text/plain": [
              "<Figure size 432x288 with 1 Axes>"
            ],
            "image/png": "[encoded data removed]"
          },
          "metadata": {
            "needs_background": "light"
          }
        }
      ]
    },
    {
      "cell_type": "markdown",
      "source": [
        "texture_mean ve radius_mean kullanılarak classify yapılacaktır."
      ],
      "metadata": {
        "id": "l_AF4HDyVlk0"
      }
    },
    {
      "cell_type": "code",
      "source": [
        "data.diagnosis = [1 if each==\"M\" else 0 for each in data.diagnosis] \n",
        "#diagnosis sütunundaki veriler string olduğundan sınıflandırma yapılırken karşılaştırma yapılamaz.\n",
        "#bu yüzden kötü huylu tümör '1'e , iyi huylu tümör '0'a dönüştürülür.\n",
        "\n",
        "y = data.diagnosis.values #pandas series values methodu ile numpy array'e çevrilir.\n",
        "x_data = data.drop([\"diagnosis\"],axis=1) #diagnosis dışındakiler featurelardır."
      ],
      "metadata": {
        "id": "fgQGLmCCVoYA"
      },
      "execution_count": null,
      "outputs": []
    },
    {
      "cell_type": "code",
      "source": [
        "# normalization \n",
        "x = (x_data - np.min(x_data))/(np.max(x_data)-np.min(x_data))"
      ],
      "metadata": {
        "id": "RmbCT2KNVqZD"
      },
      "execution_count": null,
      "outputs": []
    },
    {
      "cell_type": "code",
      "source": [
        "#train test split\n",
        "from sklearn.model_selection import train_test_split\n",
        "x_train, x_test, y_train, y_test = train_test_split(x,y,test_size=0.3,random_state=1)\n",
        "#random_state parametresiyle data train ve test olarak bölünürken kod her çalıştırıldığında aynı randomlıkta bölünür.\n",
        "#bu parametre kullanılmazsa data her seferinde farklı yerlerden train ve test olarak ayrılacaktır."
      ],
      "metadata": {
        "id": "6jPjGt9AVsae"
      },
      "execution_count": null,
      "outputs": []
    },
    {
      "cell_type": "code",
      "source": [
        "#model fit\n",
        "from sklearn.naive_bayes import GaussianNB\n",
        "gnb = GaussianNB()\n",
        "gnb.fit(x_train,y_train)"
      ],
      "metadata": {
        "colab": {
          "base_uri": "https://localhost:8080/"
        },
        "id": "pvpIgE6iVuse",
        "outputId": "7a0ac476-a2e0-422d-cfd2-06b3af4f0748"
      },
      "execution_count": null,
      "outputs": [
        {
          "output_type": "execute_result",
          "data": {
            "text/plain": [
              "GaussianNB()"
            ]
          },
          "metadata": {},
          "execution_count": 36
        }
      ]
    },
    {
      "cell_type": "code",
      "source": [
        "y_head = gnb.predict(x_test)"
      ],
      "metadata": {
        "id": "lV__p4nNXQH9"
      },
      "execution_count": null,
      "outputs": []
    },
    {
      "cell_type": "code",
      "source": [
        "from sklearn.metrics import accuracy_score\n",
        "accuracy = accuracy_score(y_test, y_head)\n",
        "print(\"Accuracy of Naive Bayes: {}\".format(accuracy))"
      ],
      "metadata": {
        "colab": {
          "base_uri": "https://localhost:8080/"
        },
        "id": "p9Kh9NTvXSPp",
        "outputId": "271d587a-30cf-4c45-d4be-88ae642d73f2"
      },
      "execution_count": null,
      "outputs": [
        {
          "output_type": "stream",
          "name": "stdout",
          "text": [
            "Accuracy of Naive Bayes: 0.935672514619883\n"
          ]
        }
      ]
    },
    {
      "cell_type": "markdown",
      "source": [
        "Naive Bayes algoritmasıyla yapılan predictionların %93'ü doğrudur."
      ],
      "metadata": {
        "id": "Cgh0y2UIan0x"
      }
    },
    {
      "cell_type": "code",
      "source": [
        "from sklearn.metrics import confusion_matrix\n",
        "cm = confusion_matrix(y_test, y_head)"
      ],
      "metadata": {
        "id": "fCbPNlRtb5QZ"
      },
      "execution_count": null,
      "outputs": []
    },
    {
      "cell_type": "code",
      "source": [
        "f,ax = plt.subplots(figsize=(5, 5))\n",
        "sns.heatmap(cm,annot=True,fmt= '.0f',linewidths=0.5,linecolor=\"red\",ax=ax)\n",
        "plt.xlabel(\"y_pred\")\n",
        "plt.ylabel(\"y_test\")\n",
        "plt.show()"
      ],
      "metadata": {
        "colab": {
          "base_uri": "https://localhost:8080/",
          "height": 335
        },
        "id": "KvFHUMIsazoi",
        "outputId": "ef068d09-cd3a-4fd5-8513-f3e89a75cddb"
      },
      "execution_count": null,
      "outputs": [
        {
          "output_type": "display_data",
          "data": {
            "text/plain": [
              "<Figure size 360x360 with 2 Axes>"
            ],
            "image/png": "[encoded data removed]"
          },
          "metadata": {
            "needs_background": "light"
          }
        }
      ]
    },
    {
      "cell_type": "markdown",
      "source": [
        "0-> iyi huylu tümör\n",
        "\n",
        "1 -> köyü huylu tümör\n",
        "\n",
        "**Confusion Matrix**\n",
        "\n",
        "**TN** **FP**\n",
        "\n",
        "**FN** **TP** \n",
        "\n",
        "Confusion matrix'e bakarak;\n",
        "\n",
        "iyi huylu tümörde 108 sample'ın 102'sinin doğru tahmin edildiği, 6 sample'ın gerçekte iyi huylu tümör olup kötü huylu tümör olarak yanlış tahmin edildiği \n",
        "\n",
        "kötü huylu tümörde 63 sample'ın 58'inin doğru tahmin edildiği, 5 sample'ın gerçekte kötü huylu tümör olup iyi huylu tümör olarak yanlış tahmin edildiği görülür.\n"
      ],
      "metadata": {
        "id": "ISuiwHbhegcB"
      }
    }
  ]
}