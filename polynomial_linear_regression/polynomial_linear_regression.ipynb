{
  "cells": [
    {
      "cell_type": "markdown",
      "source": [
        "# **Polynomial Linear Regression**"
      ],
      "metadata": {
        "id": "HG3kjAGQDYBB"
      }
    },
    {
      "cell_type": "code",
      "source": [
        "import pandas as pd\n",
        "import matplotlib.pyplot as plt\n",
        "from sklearn.linear_model import LinearRegression\n",
        "from sklearn.preprocessing import PolynomialFeatures\n",
        "\n",
        "from google.colab import drive\n",
        "drive.mount('/content/drive')"
      ],
      "metadata": {
        "colab": {
          "base_uri": "https://localhost:8080/"
        },
        "id": "I0TGw9s1Dj6G",
        "outputId": "4ef57b86-a791-4324-eab9-7a43163f8b39"
      },
      "execution_count": null,
      "outputs": [
        {
          "output_type": "stream",
          "name": "stdout",
          "text": [
            "Mounted at /content/drive\n"
          ]
        }
      ]
    },
    {
      "cell_type": "code",
      "source": [
        "df = pd.read_csv(\"/content/drive/MyDrive/data/polynomial+regression.csv\", sep=\";\")"
      ],
      "metadata": {
        "id": "kAJ3zjHlDx0s"
      },
      "execution_count": null,
      "outputs": []
    },
    {
      "cell_type": "code",
      "source": [
        "df"
      ],
      "metadata": {
        "colab": {
          "base_uri": "https://localhost:8080/",
          "height": 520
        },
        "id": "L0X70lVFEB1i",
        "outputId": "776e3f6f-0f39-466d-e2b7-9dfc40520225"
      },
      "execution_count": null,
      "outputs": [
        {
          "output_type": "execute_result",
          "data": {
            "text/plain": [
              "    araba_fiyat  araba_max_hiz\n",
              "0            60            180\n",
              "1            70            180\n",
              "2            80            200\n",
              "3           100            200\n",
              "4           120            200\n",
              "5           150            220\n",
              "6           200            240\n",
              "7           250            240\n",
              "8           300            300\n",
              "9           400            350\n",
              "10          500            350\n",
              "11          750            360\n",
              "12         1000            365\n",
              "13         2000            365\n",
              "14         3000            365"
            ],
            "text/html": [
              "\n",
              "  <div id=\"df-67de1675-507a-4441-9855-004f34d5382f\">\n",
              "    <div class=\"colab-df-container\">\n",
              "      <div>\n",
              "<style scoped>\n",
              "    .dataframe tbody tr th:only-of-type {\n",
              "        vertical-align: middle;\n",
              "    }\n",
              "\n",
              "    .dataframe tbody tr th {\n",
              "        vertical-align: top;\n",
              "    }\n",
              "\n",
              "    .dataframe thead th {\n",
              "        text-align: right;\n",
              "    }\n",
              "</style>\n",
              "<table border=\"1\" class=\"dataframe\">\n",
              "  <thead>\n",
              "    <tr style=\"text-align: right;\">\n",
              "      <th></th>\n",
              "      <th>araba_fiyat</th>\n",
              "      <th>araba_max_hiz</th>\n",
              "    </tr>\n",
              "  </thead>\n",
              "  <tbody>\n",
              "    <tr>\n",
              "      <th>0</th>\n",
              "      <td>60</td>\n",
              "      <td>180</td>\n",
              "    </tr>\n",
              "    <tr>\n",
              "      <th>1</th>\n",
              "      <td>70</td>\n",
              "      <td>180</td>\n",
              "    </tr>\n",
              "    <tr>\n",
              "      <th>2</th>\n",
              "      <td>80</td>\n",
              "      <td>200</td>\n",
              "    </tr>\n",
              "    <tr>\n",
              "      <th>3</th>\n",
              "      <td>100</td>\n",
              "      <td>200</td>\n",
              "    </tr>\n",
              "    <tr>\n",
              "      <th>4</th>\n",
              "      <td>120</td>\n",
              "      <td>200</td>\n",
              "    </tr>\n",
              "    <tr>\n",
              "      <th>5</th>\n",
              "      <td>150</td>\n",
              "      <td>220</td>\n",
              "    </tr>\n",
              "    <tr>\n",
              "      <th>6</th>\n",
              "      <td>200</td>\n",
              "      <td>240</td>\n",
              "    </tr>\n",
              "    <tr>\n",
              "      <th>7</th>\n",
              "      <td>250</td>\n",
              "      <td>240</td>\n",
              "    </tr>\n",
              "    <tr>\n",
              "      <th>8</th>\n",
              "      <td>300</td>\n",
              "      <td>300</td>\n",
              "    </tr>\n",
              "    <tr>\n",
              "      <th>9</th>\n",
              "      <td>400</td>\n",
              "      <td>350</td>\n",
              "    </tr>\n",
              "    <tr>\n",
              "      <th>10</th>\n",
              "      <td>500</td>\n",
              "      <td>350</td>\n",
              "    </tr>\n",
              "    <tr>\n",
              "      <th>11</th>\n",
              "      <td>750</td>\n",
              "      <td>360</td>\n",
              "    </tr>\n",
              "    <tr>\n",
              "      <th>12</th>\n",
              "      <td>1000</td>\n",
              "      <td>365</td>\n",
              "    </tr>\n",
              "    <tr>\n",
              "      <th>13</th>\n",
              "      <td>2000</td>\n",
              "      <td>365</td>\n",
              "    </tr>\n",
              "    <tr>\n",
              "      <th>14</th>\n",
              "      <td>3000</td>\n",
              "      <td>365</td>\n",
              "    </tr>\n",
              "  </tbody>\n",
              "</table>\n",
              "</div>\n",
              "      <button class=\"colab-df-convert\" onclick=\"convertToInteractive('df-67de1675-507a-4441-9855-004f34d5382f')\"\n",
              "              title=\"Convert this dataframe to an interactive table.\"\n",
              "              style=\"display:none;\">\n",
              "        \n",
              "  <svg xmlns=\"http://www.w3.org/2000/svg\" height=\"24px\"viewBox=\"0 0 24 24\"\n",
              "       width=\"24px\">\n",
              "    <path d=\"M0 0h24v24H0V0z\" fill=\"none\"/>\n",
              "    <path d=\"M18.56 5.44l.94 2.06.94-2.06 2.06-.94-2.06-.94-.94-2.06-.94 2.06-2.06.94zm-11 1L8.5 8.5l.94-2.06 2.06-.94-2.06-.94L8.5 2.5l-.94 2.06-2.06.94zm10 10l.94 2.06.94-2.06 2.06-.94-2.06-.94-.94-2.06-.94 2.06-2.06.94z\"/><path d=\"M17.41 7.96l-1.37-1.37c-.4-.4-.92-.59-1.43-.59-.52 0-1.04.2-1.43.59L10.3 9.45l-7.72 7.72c-.78.78-.78 2.05 0 2.83L4 21.41c.39.39.9.59 1.41.59.51 0 1.02-.2 1.41-.59l7.78-7.78 2.81-2.81c.8-.78.8-2.07 0-2.86zM5.41 20L4 18.59l7.72-7.72 1.47 1.35L5.41 20z\"/>\n",
              "  </svg>\n",
              "      </button>\n",
              "      \n",
              "  <style>\n",
              "    .colab-df-container {\n",
              "      display:flex;\n",
              "      flex-wrap:wrap;\n",
              "      gap: 12px;\n",
              "    }\n",
              "\n",
              "    .colab-df-convert {\n",
              "      background-color: #E8F0FE;\n",
              "      border: none;\n",
              "      border-radius: 50%;\n",
              "      cursor: pointer;\n",
              "      display: none;\n",
              "      fill: #1967D2;\n",
              "      height: 32px;\n",
              "      padding: 0 0 0 0;\n",
              "      width: 32px;\n",
              "    }\n",
              "\n",
              "    .colab-df-convert:hover {\n",
              "      background-color: #E2EBFA;\n",
              "      box-shadow: 0px 1px 2px rgba(60, 64, 67, 0.3), 0px 1px 3px 1px rgba(60, 64, 67, 0.15);\n",
              "      fill: #174EA6;\n",
              "    }\n",
              "\n",
              "    [theme=dark] .colab-df-convert {\n",
              "      background-color: #3B4455;\n",
              "      fill: #D2E3FC;\n",
              "    }\n",
              "\n",
              "    [theme=dark] .colab-df-convert:hover {\n",
              "      background-color: #434B5C;\n",
              "      box-shadow: 0px 1px 3px 1px rgba(0, 0, 0, 0.15);\n",
              "      filter: drop-shadow(0px 1px 2px rgba(0, 0, 0, 0.3));\n",
              "      fill: #FFFFFF;\n",
              "    }\n",
              "  </style>\n",
              "\n",
              "      <script>\n",
              "        const buttonEl =\n",
              "          document.querySelector('#df-67de1675-507a-4441-9855-004f34d5382f button.colab-df-convert');\n",
              "        buttonEl.style.display =\n",
              "          google.colab.kernel.accessAllowed ? 'block' : 'none';\n",
              "\n",
              "        async function convertToInteractive(key) {\n",
              "          const element = document.querySelector('#df-67de1675-507a-4441-9855-004f34d5382f');\n",
              "          const dataTable =\n",
              "            await google.colab.kernel.invokeFunction('convertToInteractive',\n",
              "                                                     [key], {});\n",
              "          if (!dataTable) return;\n",
              "\n",
              "          const docLinkHtml = 'Like what you see? Visit the ' +\n",
              "            '<a target=\"_blank\" href=https://colab.research.google.com/notebooks/data_table.ipynb>data table notebook</a>'\n",
              "            + ' to learn more about interactive tables.';\n",
              "          element.innerHTML = '';\n",
              "          dataTable['output_type'] = 'display_data';\n",
              "          await google.colab.output.renderOutput(dataTable, element);\n",
              "          const docLink = document.createElement('div');\n",
              "          docLink.innerHTML = docLinkHtml;\n",
              "          element.appendChild(docLink);\n",
              "        }\n",
              "      </script>\n",
              "    </div>\n",
              "  </div>\n",
              "  "
            ]
          },
          "metadata": {},
          "execution_count": 3
        }
      ]
    },
    {
      "cell_type": "markdown",
      "source": [
        "Dataya bakıldığında araba fiyatının artmasına rağmen hızının bir yerden sonra sabitlendiği görülür. Data linear olarak artan bir data değildir."
      ],
      "metadata": {
        "id": "hJOd3GEfEKFY"
      }
    },
    {
      "cell_type": "markdown",
      "source": [
        "Araba fiyatına göre hızının tahmini yapılacağından veri görselleştirilirken fiyat sütunu x eksenine hız sütunu da y eksenine eşitlenir."
      ],
      "metadata": {
        "id": "GFT8spTNE7-d"
      }
    },
    {
      "cell_type": "code",
      "execution_count": null,
      "metadata": {
        "colab": {
          "base_uri": "https://localhost:8080/",
          "height": 280
        },
        "id": "EvecA5dKuAmK",
        "outputId": "f38f9ad6-f6cf-413b-a4a1-1d6c58184946"
      },
      "outputs": [
        {
          "output_type": "display_data",
          "data": {
            "text/plain": [
              "<Figure size 432x288 with 1 Axes>"
            ],
            "image/png": "[encoded data removed]"
          },
          "metadata": {
            "needs_background": "light"
          }
        }
      ],
      "source": [
        "x = df.araba_fiyat.values.reshape(-1,1)      #fiyat sütunundaki değerler alınarak 1 sütundan oluştuğu belirtilir.\n",
        "y = df.araba_max_hiz.values.reshape(-1,1)    #hız sütunundaki değerler alınarak 1 sütundan oluştuğu belirtilir. \n",
        "                                             #values methodu serie'yi array'e çevirir.\n",
        "plt.scatter(x,y)             \n",
        "plt.xlabel(\"araba_fiyat\")  \n",
        "plt.ylabel(\"araba_max_hız\")      \n",
        "plt.show()                   "
      ]
    },
    {
      "cell_type": "markdown",
      "source": [
        "Eğer bu data linear regression modeline göre fit edilip model oluşturulursa oluşacak line aşağıdaki gibidir."
      ],
      "metadata": {
        "id": "iDyMfldXGxGe"
      }
    },
    {
      "cell_type": "code",
      "source": [
        "lr = LinearRegression()  #LinearRegression modeli lr adlı variable'a eşitlenir.\n",
        "lr.fit(x,y)              #x ve y değerlerine en uygun line fit edilir."
      ],
      "metadata": {
        "colab": {
          "base_uri": "https://localhost:8080/"
        },
        "id": "4xj3yzFeHsmL",
        "outputId": "2aa16457-e6b9-46de-f1cc-6ccd0b1ee8fa"
      },
      "execution_count": null,
      "outputs": [
        {
          "output_type": "execute_result",
          "data": {
            "text/plain": [
              "LinearRegression()"
            ]
          },
          "metadata": {},
          "execution_count": 6
        }
      ]
    },
    {
      "cell_type": "code",
      "source": [
        "y_head = lr.predict(x)   #arabanın fiyatına göre maximum hızı tahmin edilir."
      ],
      "metadata": {
        "id": "jIJtOfLBHvBc"
      },
      "execution_count": null,
      "outputs": []
    },
    {
      "cell_type": "code",
      "execution_count": null,
      "metadata": {
        "scrolled": true,
        "id": "btEG_8zZuAmV",
        "outputId": "b241eb4b-f54e-434d-ce64-db4b1f2c9d7e",
        "colab": {
          "base_uri": "https://localhost:8080/",
          "height": 280
        }
      },
      "outputs": [
        {
          "output_type": "display_data",
          "data": {
            "text/plain": [
              "<Figure size 432x288 with 1 Axes>"
            ],
            "image/png": "[encoded data removed]"
          },
          "metadata": {
            "needs_background": "light"
          }
        }
      ],
      "source": [
        "plt.scatter(x,y)\n",
        "plt.xlabel(\"araba_fiyat\")\n",
        "plt.ylabel(\"araba_max_hiz\")\n",
        "\n",
        "plt.plot(x,y_head,color=\"red\",label =\"linear\")\n",
        "plt.show()"
      ]
    },
    {
      "cell_type": "markdown",
      "source": [
        "Bu line linear regression modeline göre MSE değerinin minimum olduğu değerdir. Bu data linear regression modeline göre bu kadar fit edilebilir.\n",
        "\n",
        "Prediction line'a bakıldığında noktaların çoğunun dışarıda kaldığı görülür. Çünkü bu veri linear olmadığından linear regression'a uygun değildir."
      ],
      "metadata": {
        "id": "wwY2sdX4KGYt"
      }
    },
    {
      "cell_type": "code",
      "source": [
        "lr.predict([[10000]]) #arabanın fiyatının 10,000,000 TL olduğunda max hızı linear regression'a göre tahmin edilir."
      ],
      "metadata": {
        "colab": {
          "base_uri": "https://localhost:8080/"
        },
        "id": "vHSYk514SY0z",
        "outputId": "3b0bc677-450b-4fae-8403-5d34cf5d843c"
      },
      "execution_count": null,
      "outputs": [
        {
          "output_type": "execute_result",
          "data": {
            "text/plain": [
              "array([[871.66401826]])"
            ]
          },
          "metadata": {},
          "execution_count": 11
        }
      ]
    },
    {
      "cell_type": "markdown",
      "source": [
        "Yapılan prediction'a göre arabanın fiyatı 10,000,000 TL olduğunda max hızı 871 km/h bulunmuştur. Bu da yaklaşık olarak bir uçağın hızına eşittir. Buradan da görüleceği üzere bu data linear regression'a uygun değildir."
      ],
      "metadata": {
        "id": "ifExwb4iS7yS"
      }
    },
    {
      "cell_type": "markdown",
      "source": [
        "Datasetteki değerler bir yerden sonra artışını durduğu için polynomial linear regression'a uygundur."
      ],
      "metadata": {
        "id": "TG9vEaeFTwoW"
      }
    },
    {
      "cell_type": "markdown",
      "source": [
        "![1_CyHJysggcbES2TnPG9llUg.png](data:image/png;base64,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)"
      ],
      "metadata": {
        "id": "J6tRqsCD9vlG"
      }
    },
    {
      "cell_type": "markdown",
      "source": [
        "Formüldeki y değişkeni bağımlı değişken olarak adlandırılır. Veride bu hız değerleridir. \n",
        "\n",
        "X değişkenleri ise bağımsız değişkenlerdir. Verideki fiyat sütunudur.\n",
        "\n",
        "Formüldeki h değeri polinomun derecesini belirler. Bu dereceye göre h=2'ye kuadratik, h=3'e kübik, h=4'e kuartik gibi adlandırmalar yapılabilir.\n",
        "\n",
        "Polynomial regression'ın linear olmayan bir model ortaya çıkartıp isminde linear geçmesinin sebebi ise constant ve coefficient değerlerinin linear olmasıdır.\n",
        "\n",
        "Linear ve multiple linear regressionda olduğu gibi Polynomial linear regression'da da amaç MSE değerini düşük tutmaktır. Bu da en uygun constant ve coefficient değerleri bulunarak yapılır.\n",
        "\n"
      ],
      "metadata": {
        "id": "xXeESc0V90Ob"
      }
    },
    {
      "cell_type": "markdown",
      "source": [
        "Machine learning'de bir matematiksel model oluşturulur.\n",
        "\n",
        "Predictionlar bu oluşturulan modele göre yapılır."
      ],
      "metadata": {
        "id": "HKpZlsReCW6u"
      }
    },
    {
      "cell_type": "code",
      "source": [
        "polynomial_regression = PolynomialFeatures(degree = 2) #parabolik denklem -> y=bo+b1*x+b2*x^2\n",
        "\n",
        "x_polynomial = polynomial_regression.fit_transform(x)  #x^2 feature'ı elde edilir.\n",
        "#fit_transform methoduyla 2. dereceden parabolik denklem kullanılıp, x (araba_fiyat) polynomial feature'a çevrilir."
      ],
      "metadata": {
        "id": "3NohMzlVvhvj"
      },
      "execution_count": null,
      "outputs": []
    },
    {
      "cell_type": "markdown",
      "source": [
        "Oluşturulan x_polynomial feature'ı kullanarak line fit edilir."
      ],
      "metadata": {
        "id": "F9By8mKgxl8u"
      }
    },
    {
      "cell_type": "code",
      "source": [
        "linear_regression2 = LinearRegression()  #LinearRegression modeli linear_regression2 variable'ına eşitlenir.\n",
        "linear_regression2.fit(x_polynomial,y)   #x_polynomial feature'ı ve y değerleri kullanılarak line fit edilir."
      ],
      "metadata": {
        "colab": {
          "base_uri": "https://localhost:8080/"
        },
        "id": "tY0AYq9Ex9Cq",
        "outputId": "3927d793-6283-4261-df86-43238ec644b6"
      },
      "execution_count": null,
      "outputs": [
        {
          "output_type": "execute_result",
          "data": {
            "text/plain": [
              "LinearRegression()"
            ]
          },
          "metadata": {},
          "execution_count": 14
        }
      ]
    },
    {
      "cell_type": "code",
      "execution_count": null,
      "metadata": {
        "id": "BGV3LpMzuAmY",
        "outputId": "f9d50ade-6c1e-4485-ca49-e798bb111037",
        "colab": {
          "base_uri": "https://localhost:8080/",
          "height": 280
        }
      },
      "outputs": [
        {
          "output_type": "display_data",
          "data": {
            "text/plain": [
              "<Figure size 432x288 with 1 Axes>"
            ],
            "image/png": "[encoded data removed]"
          },
          "metadata": {
            "needs_background": "light"
          }
        }
      ],
      "source": [
        "y_head2 = linear_regression2.predict(x_polynomial) #oluşturulan modelle prediction yapılır.\n",
        "#2. dereceden polynomial linear regression ve linear regression görselleştirilir.\n",
        "plt.scatter(x,y)\n",
        "plt.xlabel(\"araba_fiyat\")\n",
        "plt.ylabel(\"araba_max_hız\")\n",
        "plt.plot(x,y_head,color=\"red\",label =\"linear\")\n",
        "plt.plot(x,y_head2,color= \"green\",label = \"poly\")\n",
        "plt.show()"
      ]
    },
    {
      "cell_type": "code",
      "source": [
        "#4. dereceden polynomial linear regression modeli oluşturulur.\n",
        "polynomial_regression = PolynomialFeatures(degree = 4)\n",
        "x_polynomial = polynomial_regression.fit_transform(x)\n",
        "\n",
        "linear_regression2 = LinearRegression()\n",
        "linear_regression2.fit(x_polynomial,y)"
      ],
      "metadata": {
        "colab": {
          "base_uri": "https://localhost:8080/"
        },
        "id": "QvMF9jWV0NcG",
        "outputId": "cfd92da2-d9df-45ef-8ba7-68b7b6e2d198"
      },
      "execution_count": null,
      "outputs": [
        {
          "output_type": "execute_result",
          "data": {
            "text/plain": [
              "LinearRegression()"
            ]
          },
          "metadata": {},
          "execution_count": 16
        }
      ]
    },
    {
      "cell_type": "code",
      "source": [
        "y_head3 = linear_regression2.predict(x_polynomial)\n",
        "plt.scatter(x,y)\n",
        "plt.xlabel(\"araba_max_hız\")\n",
        "plt.ylabel(\"araba_fiyat\")\n",
        "plt.plot(x, y_head3, color=\"black\", label=\"poly\")\n",
        "plt.show()"
      ],
      "metadata": {
        "colab": {
          "base_uri": "https://localhost:8080/",
          "height": 282
        },
        "id": "2cUN_hZ50k5g",
        "outputId": "f92b942f-62db-4103-c7ed-de7be3f2f9a1"
      },
      "execution_count": null,
      "outputs": [
        {
          "output_type": "display_data",
          "data": {
            "text/plain": [
              "<Figure size 432x288 with 1 Axes>"
            ],
            "image/png": "[encoded data removed]"
          },
          "metadata": {
            "needs_background": "light"
          }
        }
      ]
    },
    {
      "cell_type": "markdown",
      "source": [
        "Degree'yi arttırarak model daha karmaşık bir hale getirildi. Böylelikle dataya neredeyse tam olarak uyarak, MSE'yi minimumda tutacak şekilde bir model oluşturulmuştur."
      ],
      "metadata": {
        "id": "ECPdXQIc2qjB"
      }
    }
  ],
  "metadata": {
    "kernelspec": {
      "display_name": "Python 3",
      "language": "python",
      "name": "python3"
    },
    "language_info": {
      "codemirror_mode": {
        "name": "ipython",
        "version": 3
      },
      "file_extension": ".py",
      "mimetype": "text/x-python",
      "name": "python",
      "nbconvert_exporter": "python",
      "pygments_lexer": "ipython3",
      "version": "3.7.2"
    },
    "colab": {
      "name": "polynomial_linear_regression.ipynb",
      "provenance": [],
      "collapsed_sections": []
    }
  },
  "nbformat": 4,
  "nbformat_minor": 0
}