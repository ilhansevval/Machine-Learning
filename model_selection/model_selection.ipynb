{
  "nbformat": 4,
  "nbformat_minor": 0,
  "metadata": {
    "colab": {
      "name": "model_selection.ipynb",
      "provenance": [],
      "collapsed_sections": []
    },
    "kernelspec": {
      "name": "python3",
      "display_name": "Python 3"
    },
    "language_info": {
      "name": "python"
    }
  },
  "cells": [
    {
      "cell_type": "markdown",
      "source": [
        "**Model Selection**"
      ],
      "metadata": {
        "id": "UDKLKqcxoODq"
      }
    },
    {
      "cell_type": "markdown",
      "source": [
        "Classification algoritmalarında dataframe train ve test olarak ayrılır.\n",
        "\n",
        "Train veri seti üzerinden model oluşturulur.\n",
        "\n",
        "Model selection bir machine learning algoritmasını seçmekten daha çok en iyi parametreyi seçmektir.\n",
        "\n",
        "Parametreler ikiye ayrılır;\n",
        "\n",
        "1) **öğrenilen parametreler:** bu parametreleri model kendi öğrendiğinden seçme gibi bir durum yoktur.\n",
        "\n",
        "2) **seçilen parametreler:** **hyperparameter** denir. En uygun değer denenerek bulunur. Böylelikle model daha iyi hale getirilir. (knn -> k değeri)\n",
        "\n",
        "Machine Learning algoritmasını nasıl değerlendirileceği de bir selection'dır.\n",
        "\n",
        "Confusion matrix, accuracy, r^2 score metriklerinden hangisine göre değerlendirme yapılacağının seçilmesi gerekir.\n",
        "\n",
        "Seçilen model sonucu ortaya çıkan accuracy değerinin de tutarlı olması gerekir.\n",
        "\n",
        "Mesela seçilen model sonucu bir test datasıyla %89 accuracy değeri elde edilmişken, başka bir test datasıyla %60 accuracy değeri elde edilirse bu durumun çözülmesi gerekir.\n",
        "\n",
        "Bu durumun çözülmesi için **k-fold cross validation** yöntemi kullanılır.\n",
        "\n",
        "**overfitting:** modelin train datalarının ezberlemesi ve bu ezberlenen dataların test datalarına uygulanması durumudur.\n",
        "\n",
        "Eğer data overfitting olmuşsa başka bir test datası geldiğinde düşük bir accuracy değeri elde edecektir.\n",
        "\n",
        "k-fold cross validation yöntemi ile overfitting durumu önlenir."
      ],
      "metadata": {
        "id": "C2ALe-xwoeR2"
      }
    },
    {
      "cell_type": "markdown",
      "source": [
        "k-fold cross validation yönteminde data train ve test olarak ayrılır.\n",
        "\n",
        "Train datasının bir kısmı training bir kısmı da validation için kullanılır.\n",
        "\n",
        "Train datası belirlenen k değeri kadar training ve validation olarak ayrılır ve k adımdan oluşur.\n",
        "\n",
        "Her adımda train datasının farklı bölümü validation için kullanılır ve her adımda bir accuracy değeri elde edilir.\n",
        "\n",
        "Elde edilen accuracy değerlerinin ortalaması alınarak tek bir accuracy değeri elde edilir.\n",
        "\n",
        "k değeri 3 olduğunda train datası 3 kez train ve validation olmak üzere ayrılır ve 3 accuracy değeri elde edilir. Bu accuracylerin ortalaması alınarak tek bir accuracy değeri elde edilir.\n",
        "\n",
        "Bu yöntemde modelin eğitimi train, doğrulaması da validation kısmıyla yapılır.\n",
        "\n",
        "Model hazırlandıktan sonra test kısmıyla test edilir.\n",
        "\n"
      ],
      "metadata": {
        "id": "gaACLJsFxcZw"
      }
    },
    {
      "cell_type": "code",
      "execution_count": null,
      "metadata": {
        "id": "uFGEeiVdkhfR"
      },
      "outputs": [],
      "source": [
        "from sklearn.datasets import load_iris\n",
        "import pandas as pd\n",
        "import numpy as np\n",
        "import warnings\n",
        "warnings.filterwarnings(\"ignore\")"
      ]
    },
    {
      "cell_type": "markdown",
      "source": [
        "Sklearn kütüphanesinden iris datası kullanılacaktır."
      ],
      "metadata": {
        "id": "-NmBQPow2dHN"
      }
    },
    {
      "cell_type": "code",
      "source": [
        "iris = load_iris()"
      ],
      "metadata": {
        "id": "unx7R0Ls2oe0"
      },
      "execution_count": null,
      "outputs": []
    },
    {
      "cell_type": "markdown",
      "source": [
        "Datada sepal_length, sepal_width, petal_length ve petal_width olmak üzere 4 feature bulunmaktadır.\n",
        "\n",
        "setosa(0), versicolor(1) ve virginica(2) olmak üzere 3 classtan oluşmaktadır."
      ],
      "metadata": {
        "id": "eJJWWPmI237N"
      }
    },
    {
      "cell_type": "code",
      "source": [
        "x = iris.data\n",
        "y = iris.target"
      ],
      "metadata": {
        "id": "Bi8Ao93k2sRW"
      },
      "execution_count": null,
      "outputs": []
    },
    {
      "cell_type": "markdown",
      "source": [
        "Knn algoritması kullanılacağından normalization yapılacaktır.\n",
        "\n",
        "Knn algoritmasında euclidean distance bulunduğundan eğer normalization yapılmazsa bir feature'ın değeri 1000-1500 aralığında ve diğer feature'ın değeri 0.1 arasında olursa değeri yüksek olan feature baskınlık kurar.\n",
        "\n",
        "Normalization yöntemiyle featurelardaki tüm değerler 0-1 aralığına çekilerek featureların baskınlık kurması önlenir."
      ],
      "metadata": {
        "id": "CKHer5W73ncD"
      }
    },
    {
      "cell_type": "code",
      "source": [
        "#normalization\n",
        "x = (x - np.min(x)) / (np.max(x) - np.min(x))"
      ],
      "metadata": {
        "id": "pPpfDFQG4g_5"
      },
      "execution_count": null,
      "outputs": []
    },
    {
      "cell_type": "code",
      "source": [
        "#train test split\n",
        "from sklearn.model_selection import train_test_split\n",
        "x_train, x_test, y_train, y_test = train_test_split(x,y,test_size=0.3,random_state=42)"
      ],
      "metadata": {
        "id": "9MmrG1Pp40B3"
      },
      "execution_count": null,
      "outputs": []
    },
    {
      "cell_type": "markdown",
      "source": [
        "Test size 0.3 olarak belirlendiğinden datanın %70'i train %30 test olarak ayrılmıştır."
      ],
      "metadata": {
        "id": "D4O6MuDK5a_O"
      }
    },
    {
      "cell_type": "code",
      "source": [
        "#knn model\n",
        "from sklearn.neighbors import KNeighborsClassifier\n",
        "knn = KNeighborsClassifier(n_neighbors=3) #k değeri"
      ],
      "metadata": {
        "id": "S8Qk2HPb5n-s"
      },
      "execution_count": null,
      "outputs": []
    },
    {
      "cell_type": "code",
      "source": [
        "#k fold cross validation\n",
        "from sklearn.model_selection import cross_val_score\n",
        "accuracies = cross_val_score (estimator = knn, X = x_train, y = y_train, cv = 10)"
      ],
      "metadata": {
        "id": "S8GYNclZ5_X-"
      },
      "execution_count": null,
      "outputs": []
    },
    {
      "cell_type": "markdown",
      "source": [
        "**estimator** parametresiyle cross validation yapılırken hangi algoritmanın kullanılacağı belirlenir.\n",
        "\n",
        "**cv** parametresiyle cross validation'daki k değeri belirlenir."
      ],
      "metadata": {
        "id": "WWeSjROW6ZhE"
      }
    },
    {
      "cell_type": "code",
      "source": [
        "accuracies"
      ],
      "metadata": {
        "colab": {
          "base_uri": "https://localhost:8080/"
        },
        "id": "XgT9Dtpj7HAt",
        "outputId": "86b0e805-0136-4a87-c05f-6cfa3779e1d3"
      },
      "execution_count": null,
      "outputs": [
        {
          "output_type": "execute_result",
          "data": {
            "text/plain": [
              "array([0.90909091, 1.        , 1.        , 0.81818182, 0.81818182,\n",
              "       1.        , 1.        , 1.        , 1.        , 0.9       ])"
            ]
          },
          "metadata": {},
          "execution_count": 76
        }
      ]
    },
    {
      "cell_type": "code",
      "source": [
        "print(\"average accuracy: \",np.mean(accuracies))\n",
        "print(\"average standard deviation : \",np.std(accuracies))"
      ],
      "metadata": {
        "colab": {
          "base_uri": "https://localhost:8080/"
        },
        "id": "KMttqrDK7Igb",
        "outputId": "5f94e6ef-62ef-4e2f-a265-90fcae2fd867"
      },
      "execution_count": null,
      "outputs": [
        {
          "output_type": "stream",
          "name": "stdout",
          "text": [
            "average accuracy:  0.9445454545454547\n",
            "average standard deviation :  0.073231208629623\n"
          ]
        }
      ]
    },
    {
      "cell_type": "markdown",
      "source": [
        "**standard deviation** elde edilen accuracy değerinin yayılımıdır. Bu da ne kadar tutarlı olduğunun bilgisidir.\n",
        "\n",
        "Average accuracy değeri %94 olduğundan knn algoritmasında kullanılan 3 değerinin iyi bir değer olduğu görülür.\n",
        "\n",
        "Standart deviation'a bakarak tutarlı olduğu görülür.\n",
        "\n",
        "Bu durumda artık test datası kullanılabilir."
      ],
      "metadata": {
        "id": "3Z_OALD_7xZY"
      }
    },
    {
      "cell_type": "code",
      "source": [
        "#knn fit\n",
        "knn.fit(x_train,y_train)"
      ],
      "metadata": {
        "colab": {
          "base_uri": "https://localhost:8080/"
        },
        "id": "j1122wrF9SZe",
        "outputId": "c94e9130-f460-40d0-da47-b67642a15ab1"
      },
      "execution_count": null,
      "outputs": [
        {
          "output_type": "execute_result",
          "data": {
            "text/plain": [
              "KNeighborsClassifier()"
            ]
          },
          "metadata": {},
          "execution_count": 91
        }
      ]
    },
    {
      "cell_type": "code",
      "source": [
        "#accuracy\n",
        "print(\"test accuracy: \",knn.score(x_test,y_test.reshape(-1,1)))"
      ],
      "metadata": {
        "colab": {
          "base_uri": "https://localhost:8080/"
        },
        "id": "H-3HTn2MXpqN",
        "outputId": "a6eb0979-905c-4742-f07c-d5505427e347"
      },
      "execution_count": null,
      "outputs": [
        {
          "output_type": "stream",
          "name": "stdout",
          "text": [
            "test accuracy:  1.0\n"
          ]
        }
      ]
    },
    {
      "cell_type": "markdown",
      "source": [
        "## **Grid Search Cross Validation**"
      ],
      "metadata": {
        "id": "L6oZ0jb0-HYn"
      }
    },
    {
      "cell_type": "markdown",
      "source": [
        "Knn algoritmasında k değeri 3 olduğunda %97'lik bir doğruluk elde edilmişti.\n",
        "\n",
        "Grid search ile farklı k değerleri ile knn algoritması denenir ve bu k değerlerine cross validation yapılır."
      ],
      "metadata": {
        "id": "l04_0rBfACfN"
      }
    },
    {
      "cell_type": "markdown",
      "source": [
        "**Grid Search CV with KNN**"
      ],
      "metadata": {
        "id": "tlwBppgnQTbU"
      }
    },
    {
      "cell_type": "code",
      "source": [
        "from sklearn.model_selection import GridSearchCV\n",
        "grid = {\"n_neighbors\":np.arange(1,50)}  #knn algoritmasında 1'den 50'ye kadar olan k değerlerine validation uygulanacaktır."
      ],
      "metadata": {
        "id": "NFeuDvSnBIDh"
      },
      "execution_count": null,
      "outputs": []
    },
    {
      "cell_type": "code",
      "source": [
        "#knn model\n",
        "knn = KNeighborsClassifier()"
      ],
      "metadata": {
        "id": "0H9_fw0eYHo0"
      },
      "execution_count": null,
      "outputs": []
    },
    {
      "cell_type": "code",
      "source": [
        "#grid search CV\n",
        "knn_cv = GridSearchCV(knn, grid, cv=10) #cross validation'daki k değeri 10 olarak belirlenmiştir."
      ],
      "metadata": {
        "id": "S2FUbblMYOag"
      },
      "execution_count": null,
      "outputs": []
    },
    {
      "cell_type": "code",
      "source": [
        "#Knn model\n",
        "knn_cv.fit(x_train,y_train)"
      ],
      "metadata": {
        "colab": {
          "base_uri": "https://localhost:8080/"
        },
        "id": "IdsEzKxwYUQj",
        "outputId": "ad2ebe41-bab3-4b8d-e128-a90ff5eb0ce5"
      },
      "execution_count": null,
      "outputs": [
        {
          "output_type": "execute_result",
          "data": {
            "text/plain": [
              "GridSearchCV(cv=10, estimator=KNeighborsClassifier(),\n",
              "             param_grid={'n_neighbors': array([ 1,  2,  3,  4,  5,  6,  7,  8,  9, 10, 11, 12, 13, 14, 15, 16, 17,\n",
              "       18, 19, 20, 21, 22, 23, 24, 25, 26, 27, 28, 29, 30, 31, 32, 33, 34,\n",
              "       35, 36, 37, 38, 39, 40, 41, 42, 43, 44, 45, 46, 47, 48, 49])})"
            ]
          },
          "metadata": {},
          "execution_count": 96
        }
      ]
    },
    {
      "cell_type": "code",
      "source": [
        "print(\"tuned hyperparameter K: \",knn_cv.best_params_) #best_params_ methodu ile en iyi k değeri seçilir.\n",
        "print(\"tuned parametreye göre en iyi accuracy (best score): \",knn_cv.best_score_) \n",
        "#seçilen k değerine göre accuracy'e bakılır."
      ],
      "metadata": {
        "colab": {
          "base_uri": "https://localhost:8080/"
        },
        "id": "5Iy8icyMOGn-",
        "outputId": "cbd221ab-489c-4586-e94d-fccda559b9ce"
      },
      "execution_count": null,
      "outputs": [
        {
          "output_type": "stream",
          "name": "stdout",
          "text": [
            "tuned hyperparameter K:  {'n_neighbors': 11}\n",
            "tuned parametreye göre en iyi accuracy (best score):  0.9627272727272727\n"
          ]
        }
      ]
    },
    {
      "cell_type": "markdown",
      "source": [
        "Knn algoritması için k değeri 11 olduğunda %96 accuracy değeri elde edilir."
      ],
      "metadata": {
        "id": "-iZvv6HjPigO"
      }
    },
    {
      "cell_type": "markdown",
      "source": [
        "**Grid Search CV with Logistic Regression**"
      ],
      "metadata": {
        "id": "w6R9pZOhQchN"
      }
    },
    {
      "cell_type": "markdown",
      "source": [
        "Logistic Regression binary classification algoritmasıdır.\n",
        "\n",
        "Datada 3 class bulunmaktadır. \n",
        "\n",
        "Logistic regression'da datadaki 2 class kullanılacaktır."
      ],
      "metadata": {
        "id": "4Dax--ryQtOH"
      }
    },
    {
      "cell_type": "code",
      "source": [
        "x = x[:100,:]  \n",
        "y = y[:100]   #her class 50 değerden oluşmaktadır. Bu yüzden 2 class için 100 değer seçilir."
      ],
      "metadata": {
        "id": "Su1hh7c6POXD"
      },
      "execution_count": null,
      "outputs": []
    },
    {
      "cell_type": "code",
      "source": [
        "#normalization\n",
        "x = (x - np.min(x)) / (np.max(x) - np.min(x))"
      ],
      "metadata": {
        "id": "JlvDC52RVFlr"
      },
      "execution_count": null,
      "outputs": []
    },
    {
      "cell_type": "code",
      "source": [
        "#train test split\n",
        "from sklearn.model_selection import train_test_split\n",
        "x_train, x_test, y_train, y_test = train_test_split(x,y,test_size=0.3,random_state=42)"
      ],
      "metadata": {
        "id": "CS4uvpHpUeBe"
      },
      "execution_count": null,
      "outputs": []
    },
    {
      "cell_type": "code",
      "source": [
        "from sklearn.linear_model import LogisticRegression\n",
        "grid = {\"C\":np.logspace(-3,3,7),\"penalty\":[\"l1\",\"l2\"]} "
      ],
      "metadata": {
        "id": "v58Q_LC4S9U3"
      },
      "execution_count": null,
      "outputs": []
    },
    {
      "cell_type": "markdown",
      "source": [
        "**C parametresi**, logistic regression regularization parameterdır. \n",
        "\n",
        "Eğer C değeri büyükse overfitting (aşırı ezberleme) durumu olur, eğer C çok küçükse underfitting (data'yı öğrenememe) durumu olur.\n",
        "\n",
        "Bu yüzden optimal C değeri seçilmelidir.\n",
        "\n",
        "**l1(lasso) ve l2(ridge)** regularization kısmında kullanılan loss functionlardır."
      ],
      "metadata": {
        "id": "3SeU1gAwTVck"
      }
    },
    {
      "cell_type": "code",
      "source": [
        "#logistic regression model\n",
        "logreg = LogisticRegression(random_state = 42,max_iter= 40)"
      ],
      "metadata": {
        "id": "pOO3gQ3TUMrQ"
      },
      "execution_count": null,
      "outputs": []
    },
    {
      "cell_type": "code",
      "source": [
        "#grid search CV\n",
        "logreg_cv = GridSearchCV(logreg, grid, cv=10)"
      ],
      "metadata": {
        "id": "LA4f6k5rS_Va"
      },
      "execution_count": null,
      "outputs": []
    },
    {
      "cell_type": "code",
      "source": [
        "#model fit\n",
        "logreg_cv.fit(x_train,y_train)"
      ],
      "metadata": {
        "colab": {
          "base_uri": "https://localhost:8080/"
        },
        "id": "BHUnbeugUWks",
        "outputId": "430902f4-1c14-4fe6-a30a-8641a135ee41"
      },
      "execution_count": null,
      "outputs": [
        {
          "output_type": "execute_result",
          "data": {
            "text/plain": [
              "GridSearchCV(cv=10, estimator=LogisticRegression(max_iter=40, random_state=42),\n",
              "             param_grid={'C': array([1.e-03, 1.e-02, 1.e-01, 1.e+00, 1.e+01, 1.e+02, 1.e+03]),\n",
              "                         'penalty': ['l1', 'l2']})"
            ]
          },
          "metadata": {},
          "execution_count": 104
        }
      ]
    },
    {
      "cell_type": "code",
      "source": [
        "print(\"tuned hyperparameters: (best parameters): \",logreg_cv.best_params_)\n",
        "print(\"accuracy: \",logreg_cv.best_score_)"
      ],
      "metadata": {
        "colab": {
          "base_uri": "https://localhost:8080/"
        },
        "id": "f98qmnmvUnBz",
        "outputId": "346b60e1-0aa2-4077-90c4-df418a13b007"
      },
      "execution_count": null,
      "outputs": [
        {
          "output_type": "stream",
          "name": "stdout",
          "text": [
            "tuned hyperparameters: (best parameters):  {'C': 1.0, 'penalty': 'l2'}\n",
            "accuracy:  1.0\n"
          ]
        }
      ]
    },
    {
      "cell_type": "markdown",
      "source": [
        "Bu parametreler kullanılarak data %100 predict edilmiştir."
      ],
      "metadata": {
        "id": "prZmRypRWAOA"
      }
    }
  ]
}