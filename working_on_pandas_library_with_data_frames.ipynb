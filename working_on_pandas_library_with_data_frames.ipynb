{
 "cells": [
  {
   "cell_type": "code",
   "execution_count": 1,
   "id": "801fa0fb",
   "metadata": {},
   "outputs": [
    {
     "name": "stdout",
     "output_type": "stream",
     "text": [
      "[[ 0  3]\n",
      " [10  7]\n",
      " [20  9]\n",
      " [30 14]\n",
      " [40 15]]\n"
     ]
    }
   ],
   "source": [
    "import numpy as np  #numpy library used for working with arrays.\n",
    "import pandas as pd #pandas library used for working with data analysis.\n",
    "\n",
    "my_data = np.array([[0, 3], [10, 7], [20, 9], [30, 14], [40, 15]])\n",
    "print(my_data)      #with np.array creating an array"
   ]
  },
  {
   "cell_type": "code",
   "execution_count": 2,
   "id": "c642b98c",
   "metadata": {},
   "outputs": [
    {
     "name": "stdout",
     "output_type": "stream",
     "text": [
      "['temperature', 'activity']\n"
     ]
    }
   ],
   "source": [
    "my_column_names = ['temperature', 'activity']\n",
    "print(my_column_names)  #creating column names"
   ]
  },
  {
   "cell_type": "code",
   "execution_count": 3,
   "id": "452790f7",
   "metadata": {},
   "outputs": [
    {
     "name": "stdout",
     "output_type": "stream",
     "text": [
      "   temperature  activity\n",
      "0            0         3\n",
      "1           10         7\n",
      "2           20         9\n",
      "3           30        14\n",
      "4           40        15\n"
     ]
    }
   ],
   "source": [
    "my_dataframe = pd.DataFrame(data=my_data, columns=my_column_names)\n",
    "print(my_dataframe)         #using with pd.DataFrame connecting arrays with table"
   ]
  },
  {
   "cell_type": "code",
   "execution_count": 4,
   "id": "8f10e583",
   "metadata": {},
   "outputs": [
    {
     "name": "stdout",
     "output_type": "stream",
     "text": [
      "   first_column  second_column  third_column\n",
      "0             0              0             0\n",
      "1             1              1             1\n",
      "2             2              2             2\n",
      "3             3              3             3\n",
      "4             4              4             4\n",
      "5             5              5             5\n"
     ]
    }
   ],
   "source": [
    "std1 = np.array([[0,0,0], [1,1,1], [2,2,2], [3,3,3], [4,4,4],[5,5,5]])\n",
    "std2 = ['first_column', 'second_column','third_column']\n",
    "std3 = pd.DataFrame(data=std1, columns=std2)\n",
    "print(std3)"
   ]
  },
  {
   "cell_type": "code",
   "execution_count": 5,
   "id": "6d082e2d",
   "metadata": {},
   "outputs": [
    {
     "name": "stdout",
     "output_type": "stream",
     "text": [
      "   temperature  activity  adjusted\n",
      "0            0         3         5\n",
      "1           10         7         9\n",
      "2           20         9        11\n",
      "3           30        14        16\n",
      "4           40        15        17\n"
     ]
    }
   ],
   "source": [
    "my_dataframe[\"adjusted\"] = my_dataframe[\"activity\"] + 2\n",
    "print(my_dataframe)\n"
   ]
  },
  {
   "cell_type": "code",
   "execution_count": 6,
   "id": "448191ba",
   "metadata": {},
   "outputs": [
    {
     "name": "stdout",
     "output_type": "stream",
     "text": [
      "   first_column  second_column  third_column  fourth_column\n",
      "0             0              0             0              0\n",
      "1             1              1             1              1\n",
      "2             2              2             2              2\n",
      "3             3              3             3              3\n",
      "4             4              4             4              4\n",
      "5             5              5             5              5\n"
     ]
    }
   ],
   "source": [
    "std3[\"fourth_column\"] = std3[\"third_column\"] \n",
    "print(std3)              #adding nothing means copying the third columns values"
   ]
  },
  {
   "cell_type": "code",
   "execution_count": 7,
   "id": "0391f9c0",
   "metadata": {},
   "outputs": [
    {
     "name": "stdout",
     "output_type": "stream",
     "text": [
      "Rows #0, #1, and #2:\n",
      "   temperature  activity  adjusted\n",
      "0            0         3         5\n",
      "1           10         7         9\n",
      "2           20         9        11 \n",
      "\n"
     ]
    }
   ],
   "source": [
    "print(\"Rows #0, #1, and #2:\")\n",
    "print(my_dataframe.head(3), '\\n')  # data_frame_name.head() means adding index numbers for each row \n",
    "                                   #.head(3) adding index numbers starts 0 reach to 3"
   ]
  },
  {
   "cell_type": "code",
   "execution_count": 8,
   "id": "8380a2da",
   "metadata": {},
   "outputs": [
    {
     "name": "stdout",
     "output_type": "stream",
     "text": [
      "Row #2:\n",
      "   temperature  activity  adjusted\n",
      "2           20         9        11 \n",
      "\n"
     ]
    }
   ],
   "source": [
    "print(\"Row #2:\")\n",
    "print(my_dataframe.iloc[[2]], '\\n')  #.iloc just adding the specified number"
   ]
  },
  {
   "cell_type": "code",
   "execution_count": 9,
   "id": "8b0298f9",
   "metadata": {},
   "outputs": [
    {
     "name": "stdout",
     "output_type": "stream",
     "text": [
      "Rows #1, #2, and #3:\n",
      "   temperature  activity  adjusted\n",
      "1           10         7         9\n",
      "2           20         9        11\n",
      "3           30        14        16 \n",
      "\n"
     ]
    }
   ],
   "source": [
    "print(\"Rows #1, #2, and #3:\")\n",
    "print(my_dataframe[1:4], '\\n')       #speficying the index numbers with an array doing same thing with .head\n",
    "                                     #[1:4] starts 1 ends 3"
   ]
  },
  {
   "cell_type": "code",
   "execution_count": 10,
   "id": "94ddbf5a",
   "metadata": {},
   "outputs": [
    {
     "name": "stdout",
     "output_type": "stream",
     "text": [
      "Column 'temperature':\n",
      "0     0\n",
      "1    10\n",
      "2    20\n",
      "3    30\n",
      "4    40\n",
      "Name: temperature, dtype: int32\n"
     ]
    }
   ],
   "source": [
    "print(\"Column 'temperature':\")\n",
    "print(my_dataframe['temperature'])   #also writing the column name add index numbers"
   ]
  },
  {
   "cell_type": "code",
   "execution_count": 11,
   "id": "43f9ed6c",
   "metadata": {},
   "outputs": [],
   "source": [
    "my_column_names = ['Eleanor', 'Chidi', 'Tahani', 'Jason']  #creates column names"
   ]
  },
  {
   "cell_type": "code",
   "execution_count": 12,
   "id": "8043328c",
   "metadata": {},
   "outputs": [],
   "source": [
    "my_data = np.random.randint(low=0, high=101, size=(3, 4))  #creating an 3x4 array which gives random values between 0 and 101\n"
   ]
  },
  {
   "cell_type": "code",
   "execution_count": 13,
   "id": "1e8a509f",
   "metadata": {},
   "outputs": [],
   "source": [
    "df = pd.DataFrame(data=my_data, columns=my_column_names)   #creates data frame"
   ]
  },
  {
   "cell_type": "code",
   "execution_count": 14,
   "id": "fbb670f1",
   "metadata": {},
   "outputs": [
    {
     "name": "stdout",
     "output_type": "stream",
     "text": [
      "   Eleanor  Chidi  Tahani  Jason\n",
      "0       90     37      72     40\n",
      "1       83     75      45     62\n",
      "2       99     92      44     60\n"
     ]
    }
   ],
   "source": [
    "print(df)"
   ]
  },
  {
   "cell_type": "code",
   "execution_count": 15,
   "id": "2a5b9a3b",
   "metadata": {},
   "outputs": [
    {
     "name": "stdout",
     "output_type": "stream",
     "text": [
      "\n",
      "Second row of the Eleanor column: 83\n",
      "\n"
     ]
    }
   ],
   "source": [
    "print(\"\\nSecond row of the Eleanor column: %d\\n\" % df['Eleanor'][1]) #gives just specified line value\n"
   ]
  },
  {
   "cell_type": "code",
   "execution_count": 16,
   "id": "a52910b8",
   "metadata": {},
   "outputs": [],
   "source": [
    "df['Janet'] = df['Tahani'] + df['Jason']  #adding another column end of the data frame which makes addition with two speficied columns"
   ]
  },
  {
   "cell_type": "code",
   "execution_count": 17,
   "id": "000ee6eb",
   "metadata": {},
   "outputs": [
    {
     "name": "stdout",
     "output_type": "stream",
     "text": [
      "   Eleanor  Chidi  Tahani  Jason  Janet\n",
      "0       90     37      72     40    112\n",
      "1       83     75      45     62    107\n",
      "2       99     92      44     60    104\n"
     ]
    }
   ],
   "source": [
    "print(df)"
   ]
  },
  {
   "cell_type": "code",
   "execution_count": 18,
   "id": "87b43763",
   "metadata": {},
   "outputs": [
    {
     "name": "stdout",
     "output_type": "stream",
     "text": [
      "Experiment with a reference:\n"
     ]
    }
   ],
   "source": [
    "print(\"Experiment with a reference:\")\n",
    "reference_to_df = df"
   ]
  },
  {
   "cell_type": "code",
   "execution_count": 19,
   "id": "76b6893c",
   "metadata": {},
   "outputs": [
    {
     "name": "stdout",
     "output_type": "stream",
     "text": [
      "  Starting value of df: 62\n",
      "  Starting value of reference_to_df: 62\n",
      "\n"
     ]
    }
   ],
   "source": [
    "print(\"  Starting value of df: %d\" % df['Jason'][1])\n",
    "print(\"  Starting value of reference_to_df: %d\\n\" % reference_to_df['Jason'][1])"
   ]
  },
  {
   "cell_type": "code",
   "execution_count": 20,
   "id": "f81776e8",
   "metadata": {},
   "outputs": [
    {
     "name": "stdout",
     "output_type": "stream",
     "text": [
      "  Updated df: 67\n",
      "  Updated reference_to_df: 67\n",
      "\n",
      "\n"
     ]
    }
   ],
   "source": [
    "df.at[1, 'Jason'] = df['Jason'][1] + 5\n",
    "print(\"  Updated df: %d\" % df['Jason'][1])\n",
    "print(\"  Updated reference_to_df: %d\\n\\n\" % reference_to_df['Jason'][1])  \n",
    "                                            #if you makes changes with an referenced value which effect both of them(in data frame and in wanted one)\n"
   ]
  },
  {
   "cell_type": "code",
   "execution_count": 21,
   "id": "6830fe02",
   "metadata": {},
   "outputs": [
    {
     "name": "stdout",
     "output_type": "stream",
     "text": [
      "Experiment with a true copy:\n"
     ]
    }
   ],
   "source": [
    "print(\"Experiment with a true copy:\")\n",
    "copy_of_my_dataframe = my_dataframe.copy()"
   ]
  },
  {
   "cell_type": "code",
   "execution_count": 22,
   "id": "bf163f1a",
   "metadata": {},
   "outputs": [
    {
     "name": "stdout",
     "output_type": "stream",
     "text": [
      "  Starting value of my_dataframe: 7\n",
      "  Starting value of copy_of_my_dataframe: 7\n",
      "\n"
     ]
    }
   ],
   "source": [
    "print(\"  Starting value of my_dataframe: %d\" % my_dataframe['activity'][1])\n",
    "print(\"  Starting value of copy_of_my_dataframe: %d\\n\" % copy_of_my_dataframe['activity'][1])"
   ]
  },
  {
   "cell_type": "code",
   "execution_count": 23,
   "id": "825f1370",
   "metadata": {},
   "outputs": [
    {
     "name": "stdout",
     "output_type": "stream",
     "text": [
      "  Updated my_dataframe: 10\n",
      "  copy_of_my_dataframe does not get updated: 7\n"
     ]
    }
   ],
   "source": [
    "my_dataframe.at[1, 'activity'] = my_dataframe['activity'][1] + 3\n",
    "print(\"  Updated my_dataframe: %d\" % my_dataframe['activity'][1])\n",
    "print(\"  copy_of_my_dataframe does not get updated: %d\" % copy_of_my_dataframe['activity'][1])\n",
    "\n",
    "                                          #if you copy your data frame to another data frame with using data_frame_name.copy() you can save your original data frame"
   ]
  },
  {
   "cell_type": "code",
   "execution_count": null,
   "id": "2ac13228",
   "metadata": {},
   "outputs": [],
   "source": []
  }
 ],
 "metadata": {
  "kernelspec": {
   "display_name": "Python 3 (ipykernel)",
   "language": "python",
   "name": "python3"
  },
  "language_info": {
   "codemirror_mode": {
    "name": "ipython",
    "version": 3
   },
   "file_extension": ".py",
   "mimetype": "text/x-python",
   "name": "python",
   "nbconvert_exporter": "python",
   "pygments_lexer": "ipython3",
   "version": "3.9.7"
  }
 },
 "nbformat": 4,
 "nbformat_minor": 5
}
