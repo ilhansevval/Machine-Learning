{
  "nbformat": 4,
  "nbformat_minor": 0,
  "metadata": {
    "colab": {
      "name": "decision_tree_regression.ipynb",
      "provenance": [],
      "collapsed_sections": []
    },
    "kernelspec": {
      "name": "python3",
      "display_name": "Python 3"
    },
    "language_info": {
      "name": "python"
    }
  },
  "cells": [
    {
      "cell_type": "markdown",
      "source": [
        "# **Decision Tree Regression**"
      ],
      "metadata": {
        "id": "QATKP3PFZ_f8"
      }
    },
    {
      "cell_type": "markdown",
      "source": [
        "Decision Tree temelinde **split** (bölme) işlemi vardır.\n",
        "\n",
        "Decision Tree x1 ve x2 adındaki featureları split ile gruplara ayrılarak model oluşturulur. Oluşturulan bu model üzerinden prediction yapılır.\n",
        "\n",
        "Machine learning'de splitlere ayırırken **information entropy** kullanılır.\n",
        "\n",
        "Splitler sonucu oluşan bölümlere **terminal leaf** denir.\n",
        "\n",
        "Prediction yapılırken, predict edilecek değere (y) bakılır, bu y değerinin hangi gruba ait olduğu bulunur ve o grubun ortalama y değeri verilir.\n",
        "\n",
        "Decision Tree belirli aralıklar için hep aynı sonucu üreteceğinden ne kadar bölüm olursa modelin hassasiyeti o kadar artar. "
      ],
      "metadata": {
        "id": "GVghkCvcaDg4"
      }
    },
    {
      "cell_type": "code",
      "source": [
        "import pandas as pd\n",
        "import matplotlib.pyplot as plt\n",
        "import numpy as np\n",
        "from sklearn.linear_model import LinearRegression\n",
        "\n",
        "from google.colab import drive\n",
        "drive.mount('/content/drive')"
      ],
      "metadata": {
        "id": "4s-wdMzzxwr9",
        "colab": {
          "base_uri": "https://localhost:8080/"
        },
        "outputId": "62342c2c-af40-4fc6-fe78-da1bc3d9706d"
      },
      "execution_count": null,
      "outputs": [
        {
          "output_type": "stream",
          "name": "stdout",
          "text": [
            "Mounted at /content/drive\n"
          ]
        }
      ]
    },
    {
      "cell_type": "markdown",
      "source": [
        "Kullanıcak data tribünlerdeki koltukların seviyeleri ve fiyatlarından oluşmaktadır.\n",
        "\n",
        "Koltuk seviyeleri x feature'ını, koltuk fiyatları y label'ını oluşturmaktadır."
      ],
      "metadata": {
        "id": "0lJtcCX-BVVB"
      }
    },
    {
      "cell_type": "code",
      "source": [
        "df = pd.read_csv(\"/content/drive/MyDrive/data/decision+tree+regression+dataset.csv\", sep=\";\", header=None)\n",
        "#datada sütunların adları olmadığından header=None kullanılmazsa ilk satırı sütun adları olarak alır."
      ],
      "metadata": {
        "id": "ro_IEBr4CIli"
      },
      "execution_count": null,
      "outputs": []
    },
    {
      "cell_type": "code",
      "source": [
        "df"
      ],
      "metadata": {
        "colab": {
          "base_uri": "https://localhost:8080/",
          "height": 363
        },
        "id": "Id83_9BwClEW",
        "outputId": "f7e933fa-7e46-46a6-b113-2cc8b7122106"
      },
      "execution_count": null,
      "outputs": [
        {
          "output_type": "execute_result",
          "data": {
            "text/plain": [
              "    0    1\n",
              "0   1  100\n",
              "1   2   80\n",
              "2   3   70\n",
              "3   4   60\n",
              "4   5   50\n",
              "5   6   40\n",
              "6   7   30\n",
              "7   8   20\n",
              "8   9   10\n",
              "9  10    5"
            ],
            "text/html": [
              "\n",
              "  <div id=\"df-bbbd0ba0-9354-40e4-8f8c-7ad9ea0f7e3c\">\n",
              "    <div class=\"colab-df-container\">\n",
              "      <div>\n",
              "<style scoped>\n",
              "    .dataframe tbody tr th:only-of-type {\n",
              "        vertical-align: middle;\n",
              "    }\n",
              "\n",
              "    .dataframe tbody tr th {\n",
              "        vertical-align: top;\n",
              "    }\n",
              "\n",
              "    .dataframe thead th {\n",
              "        text-align: right;\n",
              "    }\n",
              "</style>\n",
              "<table border=\"1\" class=\"dataframe\">\n",
              "  <thead>\n",
              "    <tr style=\"text-align: right;\">\n",
              "      <th></th>\n",
              "      <th>0</th>\n",
              "      <th>1</th>\n",
              "    </tr>\n",
              "  </thead>\n",
              "  <tbody>\n",
              "    <tr>\n",
              "      <th>0</th>\n",
              "      <td>1</td>\n",
              "      <td>100</td>\n",
              "    </tr>\n",
              "    <tr>\n",
              "      <th>1</th>\n",
              "      <td>2</td>\n",
              "      <td>80</td>\n",
              "    </tr>\n",
              "    <tr>\n",
              "      <th>2</th>\n",
              "      <td>3</td>\n",
              "      <td>70</td>\n",
              "    </tr>\n",
              "    <tr>\n",
              "      <th>3</th>\n",
              "      <td>4</td>\n",
              "      <td>60</td>\n",
              "    </tr>\n",
              "    <tr>\n",
              "      <th>4</th>\n",
              "      <td>5</td>\n",
              "      <td>50</td>\n",
              "    </tr>\n",
              "    <tr>\n",
              "      <th>5</th>\n",
              "      <td>6</td>\n",
              "      <td>40</td>\n",
              "    </tr>\n",
              "    <tr>\n",
              "      <th>6</th>\n",
              "      <td>7</td>\n",
              "      <td>30</td>\n",
              "    </tr>\n",
              "    <tr>\n",
              "      <th>7</th>\n",
              "      <td>8</td>\n",
              "      <td>20</td>\n",
              "    </tr>\n",
              "    <tr>\n",
              "      <th>8</th>\n",
              "      <td>9</td>\n",
              "      <td>10</td>\n",
              "    </tr>\n",
              "    <tr>\n",
              "      <th>9</th>\n",
              "      <td>10</td>\n",
              "      <td>5</td>\n",
              "    </tr>\n",
              "  </tbody>\n",
              "</table>\n",
              "</div>\n",
              "      <button class=\"colab-df-convert\" onclick=\"convertToInteractive('df-bbbd0ba0-9354-40e4-8f8c-7ad9ea0f7e3c')\"\n",
              "              title=\"Convert this dataframe to an interactive table.\"\n",
              "              style=\"display:none;\">\n",
              "        \n",
              "  <svg xmlns=\"http://www.w3.org/2000/svg\" height=\"24px\"viewBox=\"0 0 24 24\"\n",
              "       width=\"24px\">\n",
              "    <path d=\"M0 0h24v24H0V0z\" fill=\"none\"/>\n",
              "    <path d=\"M18.56 5.44l.94 2.06.94-2.06 2.06-.94-2.06-.94-.94-2.06-.94 2.06-2.06.94zm-11 1L8.5 8.5l.94-2.06 2.06-.94-2.06-.94L8.5 2.5l-.94 2.06-2.06.94zm10 10l.94 2.06.94-2.06 2.06-.94-2.06-.94-.94-2.06-.94 2.06-2.06.94z\"/><path d=\"M17.41 7.96l-1.37-1.37c-.4-.4-.92-.59-1.43-.59-.52 0-1.04.2-1.43.59L10.3 9.45l-7.72 7.72c-.78.78-.78 2.05 0 2.83L4 21.41c.39.39.9.59 1.41.59.51 0 1.02-.2 1.41-.59l7.78-7.78 2.81-2.81c.8-.78.8-2.07 0-2.86zM5.41 20L4 18.59l7.72-7.72 1.47 1.35L5.41 20z\"/>\n",
              "  </svg>\n",
              "      </button>\n",
              "      \n",
              "  <style>\n",
              "    .colab-df-container {\n",
              "      display:flex;\n",
              "      flex-wrap:wrap;\n",
              "      gap: 12px;\n",
              "    }\n",
              "\n",
              "    .colab-df-convert {\n",
              "      background-color: #E8F0FE;\n",
              "      border: none;\n",
              "      border-radius: 50%;\n",
              "      cursor: pointer;\n",
              "      display: none;\n",
              "      fill: #1967D2;\n",
              "      height: 32px;\n",
              "      padding: 0 0 0 0;\n",
              "      width: 32px;\n",
              "    }\n",
              "\n",
              "    .colab-df-convert:hover {\n",
              "      background-color: #E2EBFA;\n",
              "      box-shadow: 0px 1px 2px rgba(60, 64, 67, 0.3), 0px 1px 3px 1px rgba(60, 64, 67, 0.15);\n",
              "      fill: #174EA6;\n",
              "    }\n",
              "\n",
              "    [theme=dark] .colab-df-convert {\n",
              "      background-color: #3B4455;\n",
              "      fill: #D2E3FC;\n",
              "    }\n",
              "\n",
              "    [theme=dark] .colab-df-convert:hover {\n",
              "      background-color: #434B5C;\n",
              "      box-shadow: 0px 1px 3px 1px rgba(0, 0, 0, 0.15);\n",
              "      filter: drop-shadow(0px 1px 2px rgba(0, 0, 0, 0.3));\n",
              "      fill: #FFFFFF;\n",
              "    }\n",
              "  </style>\n",
              "\n",
              "      <script>\n",
              "        const buttonEl =\n",
              "          document.querySelector('#df-bbbd0ba0-9354-40e4-8f8c-7ad9ea0f7e3c button.colab-df-convert');\n",
              "        buttonEl.style.display =\n",
              "          google.colab.kernel.accessAllowed ? 'block' : 'none';\n",
              "\n",
              "        async function convertToInteractive(key) {\n",
              "          const element = document.querySelector('#df-bbbd0ba0-9354-40e4-8f8c-7ad9ea0f7e3c');\n",
              "          const dataTable =\n",
              "            await google.colab.kernel.invokeFunction('convertToInteractive',\n",
              "                                                     [key], {});\n",
              "          if (!dataTable) return;\n",
              "\n",
              "          const docLinkHtml = 'Like what you see? Visit the ' +\n",
              "            '<a target=\"_blank\" href=https://colab.research.google.com/notebooks/data_table.ipynb>data table notebook</a>'\n",
              "            + ' to learn more about interactive tables.';\n",
              "          element.innerHTML = '';\n",
              "          dataTable['output_type'] = 'display_data';\n",
              "          await google.colab.output.renderOutput(dataTable, element);\n",
              "          const docLink = document.createElement('div');\n",
              "          docLink.innerHTML = docLinkHtml;\n",
              "          element.appendChild(docLink);\n",
              "        }\n",
              "      </script>\n",
              "    </div>\n",
              "  </div>\n",
              "  "
            ]
          },
          "metadata": {},
          "execution_count": 9
        }
      ]
    },
    {
      "cell_type": "markdown",
      "source": [
        "Dataya bakıldığında tribündeki en iyi yer 1. sıra ve fiyatı 100 lira, 10. seviye en kötü yer fiyatı 5 liradır.\n",
        "\n",
        "x ekseni seviyeler, y ekseni fiyatlar olacaktır.\n",
        "\n",
        "Bu datada tek bir x feature'ı vardır. Bu yüzden oluşturulacak model 2 boyutlu olacaktır."
      ],
      "metadata": {
        "id": "FThuDTyrJ5jU"
      }
    },
    {
      "cell_type": "code",
      "source": [
        "x = df.iloc[:,0].values.reshape(-1,1) \n",
        "y = df.iloc[:,1].values.reshape(-1,1) #values methodu ile pandas series array'e çevrilip, reshape methodu ile 1 sütundan oluştuğu sklearn'e bildirilir."
      ],
      "metadata": {
        "id": "N4hqTT8DJKcD"
      },
      "execution_count": null,
      "outputs": []
    },
    {
      "cell_type": "code",
      "source": [
        "from sklearn.tree import DecisionTreeRegressor\n",
        "tree_reg = DecisionTreeRegressor() #DecisionTreeRegressor modeli tree_reg adlı variable'a eşitlenir.\n",
        "tree_reg.fit(x,y)                  #x ve y değerleri kullanılarak model fit edilir."
      ],
      "metadata": {
        "colab": {
          "base_uri": "https://localhost:8080/"
        },
        "id": "5wmxwSr2LQY3",
        "outputId": "4fbb9954-e2c7-45bc-d159-56714acf1a70"
      },
      "execution_count": null,
      "outputs": [
        {
          "output_type": "execute_result",
          "data": {
            "text/plain": [
              "DecisionTreeRegressor()"
            ]
          },
          "metadata": {},
          "execution_count": 13
        }
      ]
    },
    {
      "cell_type": "code",
      "source": [
        "tree_reg.predict([[6]]) #oluşturulan modele göre 6 nolu seviyenin fiyatı 40 lira olarak tahmin edilmiştir.\n",
        "                        #dataframe'e bakıldığında da aynı sonuç görülür.\n",
        "                        #buradan modelin doğru tahmin yaptığı anlaşılır."
      ],
      "metadata": {
        "colab": {
          "base_uri": "https://localhost:8080/"
        },
        "id": "3N-eISZYL0uU",
        "outputId": "1cf93cab-6e65-4c9d-9113-cec6f2f07e64"
      },
      "execution_count": null,
      "outputs": [
        {
          "output_type": "execute_result",
          "data": {
            "text/plain": [
              "array([40.])"
            ]
          },
          "metadata": {},
          "execution_count": 14
        }
      ]
    },
    {
      "cell_type": "code",
      "source": [
        "tree_reg.predict([[5.5]]) #5.5 değeri ortalama 50 liraya denk gelir."
      ],
      "metadata": {
        "colab": {
          "base_uri": "https://localhost:8080/"
        },
        "id": "VfMyn26bMXrm",
        "outputId": "49f13b45-ad2d-4584-e698-3f4de7c42261"
      },
      "execution_count": null,
      "outputs": [
        {
          "output_type": "execute_result",
          "data": {
            "text/plain": [
              "array([50.])"
            ]
          },
          "metadata": {},
          "execution_count": 15
        }
      ]
    },
    {
      "cell_type": "code",
      "source": [
        "y_head = tree_reg.predict(x) #x değerlerine karşılık gelen y değerleri predict edilir ve bu yapılan prediction'ın görselleştirmesi yapılır.\n",
        "plt.scatter(x,y,color=\"red\")\n",
        "plt.plot(x,y_head,color=\"green\")\n",
        "plt.xlabel(\"tribün_seviyesi\")\n",
        "plt.ylabel(\"fiyat\")\n",
        "plt.show()"
      ],
      "metadata": {
        "colab": {
          "base_uri": "https://localhost:8080/",
          "height": 280
        },
        "id": "m-B3rN0AL1Qx",
        "outputId": "0010cf81-6d0c-46c0-9a51-e7008dec498d"
      },
      "execution_count": null,
      "outputs": [
        {
          "output_type": "display_data",
          "data": {
            "text/plain": [
              "<Figure size 432x288 with 1 Axes>"
            ],
            "image/png": "[encoded data removed]"
          },
          "metadata": {
            "needs_background": "light"
          }
        }
      ]
    },
    {
      "cell_type": "markdown",
      "source": [
        "Bu plotta sadece verideki değerler predict edildi. Ancak herhangi bir leaf'teki tüm x değerlerinin sonucu tek bir y değerini vermektedir. Bu yüzden belirli aralıklarla düz bir çizginin oluşması lazımdır. Böylelikle daha büyük bir aralıkta prediction yapılmış olur."
      ],
      "metadata": {
        "id": "axpqn0iVQmzt"
      }
    },
    {
      "cell_type": "code",
      "source": [
        "x_ = np.arange(min(x),max(x),0.01).reshape(-1,1)  \n",
        "#x değerleri 1-10 arasındadır.\n",
        "#plotta bir leaf'teki tüm x değerlerinin aynı sonucu vermesi için minimum x değerinden maximum x değerine kadar 0.01 aralıklar ile sayılar üretilir."
      ],
      "metadata": {
        "id": "SYncEc2zM1wY"
      },
      "execution_count": null,
      "outputs": []
    },
    {
      "cell_type": "code",
      "source": [
        "y_head = tree_reg.predict(x_)  #x değerlerine karşılık gelen y değerleri predict edilir ve bu yapılan prediction'ın görselleştirmesi yapılır.\n",
        "plt.scatter(x,y,color=\"red\")\n",
        "plt.plot(x_,y_head,color=\"green\")\n",
        "plt.xlabel(\"tribün_seviyesi\")\n",
        "plt.ylabel(\"fiyat\")\n",
        "plt.title(\"Decision_Tree_Regression\")\n",
        "plt.show()"
      ],
      "metadata": {
        "colab": {
          "base_uri": "https://localhost:8080/",
          "height": 296
        },
        "id": "FMLprj8FOiWy",
        "outputId": "17ccc420-aaa0-4dad-f1a9-fe947e8d6867"
      },
      "execution_count": null,
      "outputs": [
        {
          "output_type": "display_data",
          "data": {
            "text/plain": [
              "<Figure size 432x288 with 1 Axes>"
            ],
            "image/png": "[encoded data removed]"
          },
          "metadata": {
            "needs_background": "light"
          }
        }
      ]
    },
    {
      "cell_type": "markdown",
      "source": [
        "Plot incelendiğinde;\n",
        "\n",
        "1–1,5 (leaf)\n",
        "\n",
        "1,5–2,5 (leaf)\n",
        "\n",
        "2,5–3,5 (leaf)...\n",
        "\n",
        "Her biri tree'deki ayrı bir yaprağı temsil etmektedir ve bu aralıklarda tahmin edilen y değerleri aynı sonucu vermektedir.\n",
        "\n",
        "Grafikte ani geçişlerin olduğu yerler split işlemidir."
      ],
      "metadata": {
        "id": "OnIt0A2mPEO9"
      }
    }
  ]
}