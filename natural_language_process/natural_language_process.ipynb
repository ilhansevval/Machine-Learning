{
  "nbformat": 4,
  "nbformat_minor": 0,
  "metadata": {
    "colab": {
      "name": "natural_language_process.ipynb",
      "provenance": [],
      "collapsed_sections": []
    },
    "kernelspec": {
      "name": "python3",
      "display_name": "Python 3"
    },
    "language_info": {
      "name": "python"
    }
  },
  "cells": [
    {
      "cell_type": "markdown",
      "source": [
        "**Natural Language Process (NLP)**"
      ],
      "metadata": {
        "id": "Ja6h46X6L5-F"
      }
    },
    {
      "cell_type": "markdown",
      "source": [
        "**Natural Language** -> Türkçe, İngilizce gibi insanların konuştuğu dillerdir.\n",
        "\n",
        "**Natural Language Process** -> Bilgisayar ve insan arasındaki etkileşimi sağlar. Machine learning modelleri textlere uygulanır.\n",
        "\n",
        "Bir text mining işlemidir.\n",
        "\n",
        "Tweetler, ansiklopediler, kitaplarda bulunan textlerden anlam çıkarma işlemidir.\n",
        "\n",
        "------------------------------------------------------------------------------------------\n",
        "\n",
        "**cleaning data** \n",
        "\n",
        "\"*merHAba__\" bu ifadenin merhaba olduğunu makinenin anlaması için cleaning işlemi yapılır.\n",
        "\n",
        "--------------------------------------------------------------------------------------------\n",
        "\n",
        "**bag of words**\n",
        "\n",
        "Feature çıkartma yöntemlerinden bir tanesidir. Yani textin machine learning uygulanabilecek hale getirilmesidir.\n",
        "\n",
        "--------------------------------------------------------------------------------------------\n",
        "\n",
        "**text classification**\n",
        "\n",
        "Bir metnin dilinin belirlenmesi, atılan tweetlerin göre cinsiyet analizi yapılması text classification örneğidir.\n",
        "\n",
        "--------------------------------------------------------------------------------------------\n",
        "\n",
        "NLP kullanım alanlarından bazıları, \n",
        "\n",
        "*   **prediction genre of book** : kitapların türünü predict ederken kullanılır. \n",
        "*   **question/answering** : siride olduğu gibi konuşmanın anlaşılıp cevap verilmesidir.\n",
        "*   **document summarization** : bir dokümanın, bir kitabın özetinin çıkarılma işlemidir.\n",
        "\n",
        "--------------------------------------------------------------------------------------------\n",
        "\n",
        "**NLP kütüphaneleri**,\n",
        "\n",
        "nltk\n",
        "\n",
        "spacy\n",
        "\n",
        "standford nlp\n",
        "\n",
        "open nlp\n",
        "\n",
        "\n",
        "\n",
        "\n"
      ],
      "metadata": {
        "id": "43a-0aMLQbpv"
      }
    },
    {
      "cell_type": "code",
      "execution_count": null,
      "metadata": {
        "colab": {
          "base_uri": "https://localhost:8080/"
        },
        "id": "Jbk42C_HL3KG",
        "outputId": "2bf173e8-6066-48bc-abb2-a098a0a9c2df"
      },
      "outputs": [
        {
          "output_type": "stream",
          "name": "stdout",
          "text": [
            "Drive already mounted at /content/drive; to attempt to forcibly remount, call drive.mount(\"/content/drive\", force_remount=True).\n"
          ]
        }
      ],
      "source": [
        "import pandas as pd\n",
        "import warnings\n",
        "warnings.filterwarnings(\"ignore\")\n",
        "\n",
        "from google.colab import drive\n",
        "drive.mount('/content/drive')"
      ]
    },
    {
      "cell_type": "code",
      "source": [
        "data = pd.read_csv(r\"/content/drive/MyDrive/data/gender_classifier.csv\", encoding = \"latin1\")\n",
        "#encoding = \"latin1\" datada latin harflerinin olduğu belirtilip, bu dikkate alarak dataframe dönüştürülür. \n",
        "#r parametresi read demektir."
      ],
      "metadata": {
        "id": "rUMuL1ntdFrY"
      },
      "execution_count": null,
      "outputs": []
    },
    {
      "cell_type": "markdown",
      "source": [
        "Datada bulunan description feature'ı kullanılarak, bu description'ı yapanın kadın mı erkek mi olduğu belirlenecektir.\n",
        "\n",
        "Description kısmında text dosyaları bulunmaktadır."
      ],
      "metadata": {
        "id": "sRe5LghdcNLM"
      }
    },
    {
      "cell_type": "code",
      "source": [
        "data = pd.concat([data.gender, data.description],axis=1) "
      ],
      "metadata": {
        "id": "hgimgOldhucF"
      },
      "execution_count": null,
      "outputs": []
    },
    {
      "cell_type": "markdown",
      "source": [
        "Bütün datayı kullanmak yerine datada kullanılacak sütunlar ayrılır."
      ],
      "metadata": {
        "id": "ETR68RKeh12e"
      }
    },
    {
      "cell_type": "code",
      "source": [
        "data.head()"
      ],
      "metadata": {
        "colab": {
          "base_uri": "https://localhost:8080/",
          "height": 206
        },
        "id": "atZkk11aiY4A",
        "outputId": "46b6f197-2314-4cb4-9523-42d2f12e35c1"
      },
      "execution_count": null,
      "outputs": [
        {
          "output_type": "execute_result",
          "data": {
            "text/plain": [
              "   gender                                        description\n",
              "0    male                              i sing my own rhythm.\n",
              "1    male  I'm the author of novels filled with family dr...\n",
              "2    male                louis whining and squealing and all\n",
              "3    male  Mobile guy.  49ers, Shazam, Google, Kleiner Pe...\n",
              "4  female  Ricky Wilson The Best FRONTMAN/Kaiser Chiefs T..."
            ],
            "text/html": [
              "\n",
              "  <div id=\"df-cf762a0b-d56f-4bea-828c-a7d304d3018e\">\n",
              "    <div class=\"colab-df-container\">\n",
              "      <div>\n",
              "<style scoped>\n",
              "    .dataframe tbody tr th:only-of-type {\n",
              "        vertical-align: middle;\n",
              "    }\n",
              "\n",
              "    .dataframe tbody tr th {\n",
              "        vertical-align: top;\n",
              "    }\n",
              "\n",
              "    .dataframe thead th {\n",
              "        text-align: right;\n",
              "    }\n",
              "</style>\n",
              "<table border=\"1\" class=\"dataframe\">\n",
              "  <thead>\n",
              "    <tr style=\"text-align: right;\">\n",
              "      <th></th>\n",
              "      <th>gender</th>\n",
              "      <th>description</th>\n",
              "    </tr>\n",
              "  </thead>\n",
              "  <tbody>\n",
              "    <tr>\n",
              "      <th>0</th>\n",
              "      <td>male</td>\n",
              "      <td>i sing my own rhythm.</td>\n",
              "    </tr>\n",
              "    <tr>\n",
              "      <th>1</th>\n",
              "      <td>male</td>\n",
              "      <td>I'm the author of novels filled with family dr...</td>\n",
              "    </tr>\n",
              "    <tr>\n",
              "      <th>2</th>\n",
              "      <td>male</td>\n",
              "      <td>louis whining and squealing and all</td>\n",
              "    </tr>\n",
              "    <tr>\n",
              "      <th>3</th>\n",
              "      <td>male</td>\n",
              "      <td>Mobile guy.  49ers, Shazam, Google, Kleiner Pe...</td>\n",
              "    </tr>\n",
              "    <tr>\n",
              "      <th>4</th>\n",
              "      <td>female</td>\n",
              "      <td>Ricky Wilson The Best FRONTMAN/Kaiser Chiefs T...</td>\n",
              "    </tr>\n",
              "  </tbody>\n",
              "</table>\n",
              "</div>\n",
              "      <button class=\"colab-df-convert\" onclick=\"convertToInteractive('df-cf762a0b-d56f-4bea-828c-a7d304d3018e')\"\n",
              "              title=\"Convert this dataframe to an interactive table.\"\n",
              "              style=\"display:none;\">\n",
              "        \n",
              "  <svg xmlns=\"http://www.w3.org/2000/svg\" height=\"24px\"viewBox=\"0 0 24 24\"\n",
              "       width=\"24px\">\n",
              "    <path d=\"M0 0h24v24H0V0z\" fill=\"none\"/>\n",
              "    <path d=\"M18.56 5.44l.94 2.06.94-2.06 2.06-.94-2.06-.94-.94-2.06-.94 2.06-2.06.94zm-11 1L8.5 8.5l.94-2.06 2.06-.94-2.06-.94L8.5 2.5l-.94 2.06-2.06.94zm10 10l.94 2.06.94-2.06 2.06-.94-2.06-.94-.94-2.06-.94 2.06-2.06.94z\"/><path d=\"M17.41 7.96l-1.37-1.37c-.4-.4-.92-.59-1.43-.59-.52 0-1.04.2-1.43.59L10.3 9.45l-7.72 7.72c-.78.78-.78 2.05 0 2.83L4 21.41c.39.39.9.59 1.41.59.51 0 1.02-.2 1.41-.59l7.78-7.78 2.81-2.81c.8-.78.8-2.07 0-2.86zM5.41 20L4 18.59l7.72-7.72 1.47 1.35L5.41 20z\"/>\n",
              "  </svg>\n",
              "      </button>\n",
              "      \n",
              "  <style>\n",
              "    .colab-df-container {\n",
              "      display:flex;\n",
              "      flex-wrap:wrap;\n",
              "      gap: 12px;\n",
              "    }\n",
              "\n",
              "    .colab-df-convert {\n",
              "      background-color: #E8F0FE;\n",
              "      border: none;\n",
              "      border-radius: 50%;\n",
              "      cursor: pointer;\n",
              "      display: none;\n",
              "      fill: #1967D2;\n",
              "      height: 32px;\n",
              "      padding: 0 0 0 0;\n",
              "      width: 32px;\n",
              "    }\n",
              "\n",
              "    .colab-df-convert:hover {\n",
              "      background-color: #E2EBFA;\n",
              "      box-shadow: 0px 1px 2px rgba(60, 64, 67, 0.3), 0px 1px 3px 1px rgba(60, 64, 67, 0.15);\n",
              "      fill: #174EA6;\n",
              "    }\n",
              "\n",
              "    [theme=dark] .colab-df-convert {\n",
              "      background-color: #3B4455;\n",
              "      fill: #D2E3FC;\n",
              "    }\n",
              "\n",
              "    [theme=dark] .colab-df-convert:hover {\n",
              "      background-color: #434B5C;\n",
              "      box-shadow: 0px 1px 3px 1px rgba(0, 0, 0, 0.15);\n",
              "      filter: drop-shadow(0px 1px 2px rgba(0, 0, 0, 0.3));\n",
              "      fill: #FFFFFF;\n",
              "    }\n",
              "  </style>\n",
              "\n",
              "      <script>\n",
              "        const buttonEl =\n",
              "          document.querySelector('#df-cf762a0b-d56f-4bea-828c-a7d304d3018e button.colab-df-convert');\n",
              "        buttonEl.style.display =\n",
              "          google.colab.kernel.accessAllowed ? 'block' : 'none';\n",
              "\n",
              "        async function convertToInteractive(key) {\n",
              "          const element = document.querySelector('#df-cf762a0b-d56f-4bea-828c-a7d304d3018e');\n",
              "          const dataTable =\n",
              "            await google.colab.kernel.invokeFunction('convertToInteractive',\n",
              "                                                     [key], {});\n",
              "          if (!dataTable) return;\n",
              "\n",
              "          const docLinkHtml = 'Like what you see? Visit the ' +\n",
              "            '<a target=\"_blank\" href=https://colab.research.google.com/notebooks/data_table.ipynb>data table notebook</a>'\n",
              "            + ' to learn more about interactive tables.';\n",
              "          element.innerHTML = '';\n",
              "          dataTable['output_type'] = 'display_data';\n",
              "          await google.colab.output.renderOutput(dataTable, element);\n",
              "          const docLink = document.createElement('div');\n",
              "          docLink.innerHTML = docLinkHtml;\n",
              "          element.appendChild(docLink);\n",
              "        }\n",
              "      </script>\n",
              "    </div>\n",
              "  </div>\n",
              "  "
            ]
          },
          "metadata": {},
          "execution_count": 77
        }
      ]
    },
    {
      "cell_type": "code",
      "source": [
        "data.isnull().sum()"
      ],
      "metadata": {
        "colab": {
          "base_uri": "https://localhost:8080/"
        },
        "id": "ckiqmCXiiaLL",
        "outputId": "e91c19cf-03f8-44a1-e514-e1cfcca4390c"
      },
      "execution_count": null,
      "outputs": [
        {
          "output_type": "execute_result",
          "data": {
            "text/plain": [
              "gender           97\n",
              "description    3744\n",
              "dtype: int64"
            ]
          },
          "metadata": {},
          "execution_count": 78
        }
      ]
    },
    {
      "cell_type": "markdown",
      "source": [
        "Datada missing valuelar ve bazı anlamsız tweetler bulunmaktadır."
      ],
      "metadata": {
        "id": "9MPD_0UAiwO5"
      }
    },
    {
      "cell_type": "code",
      "source": [
        "data.dropna(axis=0, inplace=True)\n",
        "#datada bulunan missing valuelar temizlenir.\n",
        "#missing valuelar satırda olduğundan, axis=0 ile satır olarak çıkartılır.\n",
        "#inplace=True ile bu temizleme işlemi kalıcı hale getirilir."
      ],
      "metadata": {
        "id": "_QIebcUWitkL"
      },
      "execution_count": null,
      "outputs": []
    },
    {
      "cell_type": "markdown",
      "source": [
        "Genderlar female ve male olarak string şekilde bulunmaktadır.\n",
        "\n",
        "Classification yapılması için integer ya da boolean tipinde olmalıdır."
      ],
      "metadata": {
        "id": "ECxnAmmTk-g_"
      }
    },
    {
      "cell_type": "code",
      "source": [
        "data.gender = [1 if each==\"female\" else 0 for each in data.gender]\n",
        "#for each döngüsüyle female 1'e, male 0'a çevrilir."
      ],
      "metadata": {
        "id": "8PqEixnukC0s"
      },
      "execution_count": null,
      "outputs": []
    },
    {
      "cell_type": "markdown",
      "source": [
        "# **Regular Expression (RE)**"
      ],
      "metadata": {
        "id": "f7KyFrOBuuMc"
      }
    },
    {
      "cell_type": "code",
      "source": [
        "import re \n",
        "first_description = data.description[4]"
      ],
      "metadata": {
        "id": "g-NzqpXnu2Si"
      },
      "execution_count": null,
      "outputs": []
    },
    {
      "cell_type": "code",
      "source": [
        "first_description"
      ],
      "metadata": {
        "colab": {
          "base_uri": "https://localhost:8080/",
          "height": 36
        },
        "id": "QgTR0RvjvH3o",
        "outputId": "317c09e7-50a7-4e70-903b-7d9f0c9e024c"
      },
      "execution_count": null,
      "outputs": [
        {
          "output_type": "execute_result",
          "data": {
            "text/plain": [
              "'Ricky Wilson The Best FRONTMAN/Kaiser Chiefs The Best BAND Xxxx Thank you Kaiser Chiefs for an incredible year of gigs and memories to cherish always :) Xxxxxxx'"
            ],
            "application/vnd.google.colaboratory.intrinsic+json": {
              "type": "string"
            }
          },
          "metadata": {},
          "execution_count": 82
        }
      ]
    },
    {
      "cell_type": "markdown",
      "source": [
        "Cleaning kısmı datadaki 4.satır üzerinden gösterilip, tüm dataya uygulanacaktır."
      ],
      "metadata": {
        "id": "0XDc9lBhvHEZ"
      }
    },
    {
      "cell_type": "code",
      "source": [
        "description = re.sub(\"[^a-zA-z]\",\" \",first_description)\n",
        "#a-zA-z bu kısımda küçük a'dan küçük z'ye ve büyük a'dan büyük z'ye kadar olan harfler bulunur.\n",
        "#'^' başına bu işaret geldiğinde bulma anlamına gelir.\n",
        "#harfler dışındaki karakterlerin yerine ( ':' ve ')' gibi) boşluk getirilir.\n",
        "#bu işlemler sub methoduyla yapılır."
      ],
      "metadata": {
        "id": "i6riy83cvplE"
      },
      "execution_count": null,
      "outputs": []
    },
    {
      "cell_type": "markdown",
      "source": [
        "regular expression ile bir search pattern bulunur.\n",
        "\n",
        "küçük a'dan küçük z'ye ve büyük a'dan büyük z'ye kadar olan harflerin dışındaki karakterler re parametresiyle bulunmuştur.\n",
        "\n",
        "Buradaki search pattern '^a-zA-z' bu kısımdır.\n",
        "\n",
        "Regular experession ile textin içinde farklı aramalar yapılır."
      ],
      "metadata": {
        "id": "AvtdvmULvn8u"
      }
    },
    {
      "cell_type": "code",
      "source": [
        "description"
      ],
      "metadata": {
        "colab": {
          "base_uri": "https://localhost:8080/",
          "height": 36
        },
        "id": "U9qvjXyozI53",
        "outputId": "8a070d60-d801-4e1b-b8db-13b159a809a6"
      },
      "execution_count": null,
      "outputs": [
        {
          "output_type": "execute_result",
          "data": {
            "text/plain": [
              "'Ricky Wilson The Best FRONTMAN Kaiser Chiefs The Best BAND Xxxx Thank you Kaiser Chiefs for an incredible year of gigs and memories to cherish always    Xxxxxxx'"
            ],
            "application/vnd.google.colaboratory.intrinsic+json": {
              "type": "string"
            }
          },
          "metadata": {},
          "execution_count": 84
        }
      ]
    },
    {
      "cell_type": "markdown",
      "source": [
        "Text'e bakıldığında harf olmayan karakterlerin ':' ve ')' kaldırıldığı ve bunların yerine boşluk getirildiği görülür."
      ],
      "metadata": {
        "id": "mKGb6TiCzRNa"
      }
    },
    {
      "cell_type": "markdown",
      "source": [
        "Bilgisayar dili büyük harfle yazılan kelimeler ile küçük harfle yazılan kelimeleri farklı kelime olarak algılar."
      ],
      "metadata": {
        "id": "2v5Mv95Nzktp"
      }
    },
    {
      "cell_type": "code",
      "source": [
        "description = description.lower()\n",
        "#lower methoduyla tüm harfler küçük harfe çevrilir."
      ],
      "metadata": {
        "id": "Cz5yKJQTzKEc"
      },
      "execution_count": null,
      "outputs": []
    },
    {
      "cell_type": "code",
      "source": [
        "description"
      ],
      "metadata": {
        "colab": {
          "base_uri": "https://localhost:8080/",
          "height": 36
        },
        "id": "M4q1YRJbcDwc",
        "outputId": "9e6a1446-df3a-4540-a60d-a43a73aef2ec"
      },
      "execution_count": null,
      "outputs": [
        {
          "output_type": "execute_result",
          "data": {
            "text/plain": [
              "'ricky wilson the best frontman kaiser chiefs the best band xxxx thank you kaiser chiefs for an incredible year of gigs and memories to cherish always    xxxxxxx'"
            ],
            "application/vnd.google.colaboratory.intrinsic+json": {
              "type": "string"
            }
          },
          "metadata": {},
          "execution_count": 86
        }
      ]
    },
    {
      "cell_type": "markdown",
      "source": [
        "Tüm harflerin küçük harfe çevrildiği görülür."
      ],
      "metadata": {
        "id": "MD45updecdnu"
      }
    },
    {
      "cell_type": "markdown",
      "source": [
        "# **Irrelavant Words (Stopwords)**"
      ],
      "metadata": {
        "id": "XtgGN-hSeOkb"
      }
    },
    {
      "cell_type": "markdown",
      "source": [
        "Makinenin textten anlam çıkarırken 'the', 'and', 'or', 'as' gibi kelimeler önem arz etmemektedir.\n",
        "\n",
        "Mesela burada yapılacak classificationda 'and', 'the' gibi kelimeler texti yazanın kadın mı erkek mi olduğuna dair bir yardımda bulunmamaktadır. Bu kelimeleri kadın da yazabilir, erkek de yazabilir.\n",
        "\n",
        "Bu kelimeler textten çıkartılarak filtreleme işlemi yapılır."
      ],
      "metadata": {
        "id": "DQxMIKmZetKr"
      }
    },
    {
      "cell_type": "code",
      "source": [
        "import nltk   #natural language tool kit\n",
        "\n",
        "nltk.download(\"stopwords\") #stop wordler downloand edilir.\n",
        "                           #stopwordler bilgisayarda corpus adında bir klasöre indirilir.\n",
        "from nltk.corpus import stopwords #stopwordler corpus klasöründen import edilir."
      ],
      "metadata": {
        "colab": {
          "base_uri": "https://localhost:8080/"
        },
        "id": "C8PK4y-wcbeP",
        "outputId": "484ccdee-f613-421c-c13b-5e4f60656ed9"
      },
      "execution_count": null,
      "outputs": [
        {
          "output_type": "stream",
          "name": "stderr",
          "text": [
            "[nltk_data] Downloading package stopwords to /root/nltk_data...\n",
            "[nltk_data]   Package stopwords is already up-to-date!\n"
          ]
        }
      ]
    },
    {
      "cell_type": "markdown",
      "source": [
        "Textin içindeki her bir kelime bir listenin içerisinde depolanıp stop wordler ile karşılaştırıldıktan sonra eşleşme olursa bu kelimeler atılacaktır. "
      ],
      "metadata": {
        "id": "oKUdL3ZTk2lF"
      }
    },
    {
      "cell_type": "code",
      "source": [
        "description = description.split()\n",
        "#split methodunun default değeri textteki kelimeleri bir listenin içerisinde teker teker ayırır."
      ],
      "metadata": {
        "id": "iae4N9eEjexx"
      },
      "execution_count": null,
      "outputs": []
    },
    {
      "cell_type": "code",
      "source": [
        "description"
      ],
      "metadata": {
        "colab": {
          "base_uri": "https://localhost:8080/"
        },
        "id": "4Q7DMn5zl1nJ",
        "outputId": "62f940e9-c65a-42c9-9839-9e007ba23a75"
      },
      "execution_count": null,
      "outputs": [
        {
          "output_type": "execute_result",
          "data": {
            "text/plain": [
              "['ricky',\n",
              " 'wilson',\n",
              " 'the',\n",
              " 'best',\n",
              " 'frontman',\n",
              " 'kaiser',\n",
              " 'chiefs',\n",
              " 'the',\n",
              " 'best',\n",
              " 'band',\n",
              " 'xxxx',\n",
              " 'thank',\n",
              " 'you',\n",
              " 'kaiser',\n",
              " 'chiefs',\n",
              " 'for',\n",
              " 'an',\n",
              " 'incredible',\n",
              " 'year',\n",
              " 'of',\n",
              " 'gigs',\n",
              " 'and',\n",
              " 'memories',\n",
              " 'to',\n",
              " 'cherish',\n",
              " 'always',\n",
              " 'xxxxxxx']"
            ]
          },
          "metadata": {},
          "execution_count": 72
        }
      ]
    },
    {
      "cell_type": "markdown",
      "source": [
        "Split methodu yerine tokenize methodu da kullanılabilir."
      ],
      "metadata": {
        "id": "X7_H_RtumOGq"
      }
    },
    {
      "cell_type": "code",
      "source": [
        "nltk.download('punkt')\n",
        "description = nltk.word_tokenize(description)"
      ],
      "metadata": {
        "colab": {
          "base_uri": "https://localhost:8080/"
        },
        "id": "YFw98qrTm2Hs",
        "outputId": "6bf3925a-a69e-401c-c290-4ccb196fec8a"
      },
      "execution_count": null,
      "outputs": [
        {
          "output_type": "stream",
          "name": "stderr",
          "text": [
            "[nltk_data] Downloading package punkt to /root/nltk_data...\n",
            "[nltk_data]   Package punkt is already up-to-date!\n"
          ]
        }
      ]
    },
    {
      "cell_type": "markdown",
      "source": [
        "Split yerine tokenize methodu tercih edilir. Çünkü textte couldn't gibi kelimeler olduğunda split methodunda 'couldn't' diye ayrılırken tokenize methodunda 'could', 'not' diye ayrılır.\n",
        "\n",
        "Çünkü split methodu boşluklara göre ayırdığından bu ayrıma varamaz."
      ],
      "metadata": {
        "id": "LduGlFCCm1kQ"
      }
    },
    {
      "cell_type": "code",
      "source": [
        "description = [ word for word in description if not word in set(stopwords.words(\"english\"))]\n",
        "#set methoduyla stopwordlerin unique'leri bulunur.\n",
        "#list comprehension ile textteki kelimelerde gezinip eğer stop word varsa textten atılır."
      ],
      "metadata": {
        "id": "WFowrbKYo8nQ"
      },
      "execution_count": null,
      "outputs": []
    },
    {
      "cell_type": "code",
      "source": [
        "description"
      ],
      "metadata": {
        "colab": {
          "base_uri": "https://localhost:8080/"
        },
        "id": "C7jQPXWKraHI",
        "outputId": "41fe70fd-f9af-4f50-a160-5ae8ce9f5078"
      },
      "execution_count": null,
      "outputs": [
        {
          "output_type": "execute_result",
          "data": {
            "text/plain": [
              "['ricky',\n",
              " 'wilson',\n",
              " 'best',\n",
              " 'frontman',\n",
              " 'kaiser',\n",
              " 'chiefs',\n",
              " 'best',\n",
              " 'band',\n",
              " 'xxxx',\n",
              " 'thank',\n",
              " 'kaiser',\n",
              " 'chiefs',\n",
              " 'incredible',\n",
              " 'year',\n",
              " 'gigs',\n",
              " 'memories',\n",
              " 'cherish',\n",
              " 'always',\n",
              " 'xxxxxxx']"
            ]
          },
          "metadata": {},
          "execution_count": 91
        }
      ]
    },
    {
      "cell_type": "markdown",
      "source": [
        "Textten 'the', 'of', 'an' gibi kelimelerin atıldığı görülür."
      ],
      "metadata": {
        "id": "wLcBUtV_rzTy"
      }
    },
    {
      "cell_type": "markdown",
      "source": [
        "# **Lemmatization**"
      ],
      "metadata": {
        "id": "GocVd9GDsCAu"
      }
    },
    {
      "cell_type": "markdown",
      "source": [
        "Bir textteki 'okul', 'okulu', 'okula' kelimeleri makine için 3 farklı kelimeyi ifade etmektedir.\n",
        "\n",
        "Bu durum text classificaton yapılmasını zorlaştırır ve feature sayısını gereksiz artırır.\n",
        "\n",
        "Makineye bu kelimelerin tek bir 'okul' kelimesi olarak öğretilmesi gerekir.\n",
        "\n",
        "Bunun için kelimeler köklerine ayrılır.(loved -> love, gitmeyeceğim -> git)"
      ],
      "metadata": {
        "id": "ObHfwZaisWFM"
      }
    },
    {
      "cell_type": "code",
      "source": [
        "from nltk.stem import WordNetLemmatizer\n",
        "lemma = WordNetLemmatizer()\n",
        "description = [lemma.lemmatize(word) for word in description]"
      ],
      "metadata": {
        "id": "shkdM3QCrvfM"
      },
      "execution_count": null,
      "outputs": []
    },
    {
      "cell_type": "code",
      "source": [
        "description"
      ],
      "metadata": {
        "colab": {
          "base_uri": "https://localhost:8080/"
        },
        "id": "o0aEVEI8u9Xj",
        "outputId": "2b5dbe61-b901-404f-e83c-dca9a211704c"
      },
      "execution_count": null,
      "outputs": [
        {
          "output_type": "execute_result",
          "data": {
            "text/plain": [
              "['ricky',\n",
              " 'wilson',\n",
              " 'best',\n",
              " 'frontman',\n",
              " 'kaiser',\n",
              " 'chief',\n",
              " 'best',\n",
              " 'band',\n",
              " 'xxxx',\n",
              " 'thank',\n",
              " 'kaiser',\n",
              " 'chief',\n",
              " 'incredible',\n",
              " 'year',\n",
              " 'gig',\n",
              " 'memory',\n",
              " 'cherish',\n",
              " 'always',\n",
              " 'xxxxxxx']"
            ]
          },
          "metadata": {},
          "execution_count": 94
        }
      ]
    },
    {
      "cell_type": "markdown",
      "source": [
        "Kelimelerin köklerine ayrıldığı görülür.\n",
        "\n",
        "memories -> memory\n",
        "\n",
        "chiefs -> chief\n",
        "\n",
        "gigs -> gig"
      ],
      "metadata": {
        "id": "MB_nCiuowrYC"
      }
    },
    {
      "cell_type": "code",
      "source": [
        "description = \" \".join(description)"
      ],
      "metadata": {
        "id": "6Aboi_anxfvf"
      },
      "execution_count": null,
      "outputs": []
    },
    {
      "cell_type": "markdown",
      "source": [
        "Boşluk stringiyle kelimeler birleştirilir."
      ],
      "metadata": {
        "id": "0zu9xYNoxmlZ"
      }
    },
    {
      "cell_type": "code",
      "source": [
        "description"
      ],
      "metadata": {
        "colab": {
          "base_uri": "https://localhost:8080/",
          "height": 36
        },
        "id": "Pbg8-egPxgTX",
        "outputId": "6219df30-91d2-4a23-fd30-629437bd4859"
      },
      "execution_count": null,
      "outputs": [
        {
          "output_type": "execute_result",
          "data": {
            "text/plain": [
              "'ricky wilson best frontman kaiser chief best band xxxx thank kaiser chief incredible year gig memory cherish always xxxxxxx'"
            ],
            "application/vnd.google.colaboratory.intrinsic+json": {
              "type": "string"
            }
          },
          "metadata": {},
          "execution_count": 96
        }
      ]
    },
    {
      "cell_type": "markdown",
      "source": [
        "Buraya kadar yapılan adımlarda;\n",
        "*   datadaki gereksiz karakterler kaldırıldı.\n",
        "*   tüm harfler küçük harfe çevrildi.\n",
        "*   stop wordler kaldırıldı\n",
        "*   Kelimelerin kökleri bulundu.\n",
        "\n",
        "\n",
        "\n",
        "\n",
        "\n"
      ],
      "metadata": {
        "id": "gk9GK6yzyGUL"
      }
    },
    {
      "cell_type": "markdown",
      "source": [
        "Bu işlemler tek bir cümleye uygulanmıştır. \n",
        "\n",
        "Bütün texte uygulanacaktır."
      ],
      "metadata": {
        "id": "Jw6iCyLY0rhD"
      }
    },
    {
      "cell_type": "code",
      "source": [
        "description_list = []\n",
        "\n",
        "for description in data.description:\n",
        "    description = re.sub(\"[^a-zA-Z]\", \" \", description)  \n",
        "    #Gereksiz karakterlerin yerine boşluk koyulur.\n",
        "    \n",
        "    description = description.lower()  #Tüm harfler küçük harfe çevrilir.\n",
        "\n",
        "    description = nltk.word_tokenize(description)  #text kelimelere ayrılır.\n",
        "    \n",
        "    description = [ word for word in description if not word in set(stopwords.words(\"english\"))]\n",
        "    #stop wordler listeden atılarak filtreleme yapılır.\n",
        "\n",
        "    lemma = WordNetLemmatizer()\n",
        "    description = [lemma.lemmatize(word) for word in description] #kelimelerin kökü bulunur.\n",
        "    \n",
        "    description = \" \".join(description)\n",
        "    #kelimelerin arasına boşluk koyularak tekrardan birleştirilir. Böylelikle text elde edilmiş olur.\n",
        "    \n",
        "    description_list.append(description)"
      ],
      "metadata": {
        "id": "_7nIroMmxi54"
      },
      "execution_count": null,
      "outputs": []
    },
    {
      "cell_type": "markdown",
      "source": [
        "# **Bag of Words**"
      ],
      "metadata": {
        "id": "Vykxrvhw0nbl"
      }
    },
    {
      "cell_type": "markdown",
      "source": [
        "Üç tane cümle olsun.\n",
        "\n",
        "1) Merhaba ben okula geldim\n",
        "\n",
        "2) Merhaba sen okula git\n",
        "\n",
        "3) Merhaba ben okula döndüm\n",
        "\n",
        "İlk cümledeki her bir kelime bir feature'dır.\n",
        "\n",
        "İkinci cümlede 'Merhaba' ve 'okula' kelimeleri bir önceki cümlede vardır.\n",
        "\n",
        "Bu kelimeler tekrardan feature olarak alınmaz, kalan kelimeler alınır.\n",
        "\n",
        "Bu işlem tüm cümlelere uygulanır.\n",
        "\n"
      ],
      "metadata": {
        "id": "EMDxkXUJ31TY"
      }
    },
    {
      "cell_type": "code",
      "source": [
        "data.shape"
      ],
      "metadata": {
        "colab": {
          "base_uri": "https://localhost:8080/"
        },
        "id": "WE089SWTMuA8",
        "outputId": "2ae94e5d-29d4-4d4a-c151-0c0e232f698f"
      },
      "execution_count": null,
      "outputs": [
        {
          "output_type": "execute_result",
          "data": {
            "text/plain": [
              "(16224, 2)"
            ]
          },
          "metadata": {},
          "execution_count": 100
        }
      ]
    },
    {
      "cell_type": "markdown",
      "source": [
        "Datada 16224 satır bulunmaktadır. Bu da 16224 cümle demektir. Her birinde farklı kelimeler olsa hemen hemen 32000 kelime demektir. Burada 32000 kelimenin içerisinden en çok kullanılan 500 tanesi alınacaktır. Çünkü diğer durumda algoritma çok zorlanıp, yavaşlayacaktır."
      ],
      "metadata": {
        "id": "DRfsOgFkM-1k"
      }
    },
    {
      "cell_type": "code",
      "source": [
        "from sklearn.feature_extraction.text import CountVectorizer \n",
        "# CountVectorizer bag of words yaratmak için kullanılan methoddur.\n",
        "max_features = 500 #sınır belirlenir.\n",
        "count_vectorizer = CountVectorizer(max_features = max_features, stop_words = \"english\") \n",
        "#İngilizce'deki stop wordler cümlelerin içinden çıkartılır.\n",
        "sparce_matrix = count_vectorizer.fit_transform(description_list).toarray()\n",
        "#count_vectorizer modele uyarlanıp, sparce_matrix'e eşitlenir.\n",
        "\n",
        "print(\"En sık kullanilan {} kelimeler: {}\".format(max_features,count_vectorizer.get_feature_names()))"
      ],
      "metadata": {
        "id": "nHfWGQxm5b-9",
        "colab": {
          "base_uri": "https://localhost:8080/"
        },
        "outputId": "3dae3093-d1f1-410f-d809-2da40594925d"
      },
      "execution_count": null,
      "outputs": [
        {
          "output_type": "stream",
          "name": "stdout",
          "text": [
            "En sık kullanilan 500 kelimeler: ['account', 'activist', 'actor', 'addict', 'adult', 'adventure', 'advocate', 'alum', 'amazing', 'america', 'american', 'angel', 'animal', 'anime', 'app', 'area', 'art', 'artist', 'ask', 'aspiring', 'author', 'award', 'away', 'awesome', 'baby', 'bad', 'band', 'based', 'beautiful', 'beauty', 'beer', 'believe', 'best', 'better', 'big', 'bio', 'bit', 'bitch', 'black', 'blog', 'blogger', 'blue', 'book', 'booking', 'born', 'bot', 'boy', 'brand', 'breaking', 'building', 'business', 'ca', 'car', 'care', 'cat', 'cause', 'ceo', 'certified', 'change', 'channel', 'check', 'chicago', 'chief', 'child', 'christ', 'christian', 'city', 'class', 'club', 'coach', 'coffee', 'college', 'com', 'come', 'comic', 'coming', 'communication', 'community', 'company', 'computer', 'conservative', 'consultant', 'contact', 'content', 'continuous', 'control', 'cool', 'country', 'county', 'crazy', 'create', 'creative', 'creator', 'culture', 'currently', 'dad', 'daily', 'dance', 'data', 'day', 'deal', 'dedicated', 'design', 'designer', 'developer', 'development', 'die', 'digital', 'direction', 'director', 'dj', 'dm', 'dog', 'dont', 'dream', 'dreamer', 'eat', 'editor', 'education', 'el', 'email', 'en', 'end', 'endorsement', 'engineer', 'english', 'enjoy', 'entertainment', 'enthusiast', 'entrepreneur', 'estate', 'event', 'everyday', 'experience', 'expert', 'eye', 'facebook', 'family', 'fan', 'fanatic', 'fantasy', 'fashion', 'father', 'favorite', 'fc', 'feed', 'feel', 'feminist', 'film', 'finding', 'fitness', 'follow', 'followed', 'follower', 'food', 'football', 'forever', 'founder', 'free', 'freelance', 'friend', 'fuck', 'fun', 'future', 'game', 'gamer', 'gaming', 'gay', 'geek', 'general', 'girl', 'global', 'gmail', 'god', 'going', 'gon', 'good', 'google', 'got', 'graduate', 'graphic', 'great', 'group', 'guy', 'hair', 'hand', 'happiness', 'happy', 'hard', 'harry', 'hate', 'head', 'health', 'heart', 'hello', 'help', 'helping', 'hey', 'hi', 'high', 'hip', 'history', 'hockey', 'home', 'hop', 'hope', 'host', 'house', 'http', 'huge', 'human', 'husband', 'idea', 'ig', 'im', 'improve', 'independent', 'industry', 'info', 'information', 'inquiry', 'inspirational', 'insta', 'instagram', 'interested', 'international', 'internet', 'jesus', 'job', 'join', 'journalist', 'junkie', 'justin', 'kid', 'kind', 'king', 'know', 'la', 'lady', 'latest', 'laugh', 'law', 'le', 'leader', 'leading', 'league', 'learn', 'learning', 'left', 'let', 'life', 'lifestyle', 'light', 'like', 'link', 'little', 'live', 'living', 'local', 'london', 'long', 'look', 'looking', 'lost', 'lot', 'louis', 'love', 'lover', 'loving', 'magazine', 'major', 'make', 'maker', 'making', 'man', 'management', 'manager', 'map', 'marketing', 'married', 'master', 'matter', 'mean', 'medium', 'meet', 'member', 'mi', 'mind', 'mobile', 'model', 'mom', 'money', 'mother', 'movie', 'mum', 'music', 'musician', 'na', 'nation', 'national', 'nature', 'need', 'nerd', 'network', 'new', 'news', 'night', 'non', 'north', 'nsfw', 'obsessed', 'offer', 'official', 'oh', 'old', 'online', 'open', 'opinion', 'owner', 'page', 'partner', 'party', 'passion', 'passionate', 'peace', 'people', 'perfect', 'person', 'personal', 'photo', 'photographer', 'photography', 'pic', 'picture', 'place', 'play', 'player', 'playing', 'pm', 'podcast', 'politics', 'pop', 'positive', 'post', 'power', 'pr', 'price', 'pro', 'probably', 'producer', 'product', 'prof', 'professional', 'program', 'project', 'promoting', 'proud', 'provide', 'providing', 'public', 'quality', 'que', 'queen', 'question', 'radio', 'random', 'read', 'reader', 'reading', 'real', 'really', 'red', 'reporter', 'research', 'resource', 'retired', 'retweets', 'review', 'right', 'rip', 'rock', 'rp', 'rt', 'run', 'sale', 'say', 'sc', 'school', 'science', 'seattle', 'secret', 'self', 'senior', 'series', 'service', 'share', 'shit', 'shop', 'short', 'simple', 'singer', 'single', 'site', 'small', 'smile', 'snapchat', 'social', 'software', 'solution', 'son', 'song', 'songwriter', 'soul', 'source', 'south', 'space', 'speaker', 'special', 'specialist', 'sport', 'st', 'star', 'start', 'state', 'station', 'stay', 'stop', 'story', 'street', 'strong', 'student', 'stuff', 'style', 'subscribe', 'success', 'support', 'supporter', 'talk', 'tea', 'teacher', 'team', 'tech', 'technology', 'tell', 'th', 'thing', 'think', 'thought', 'time', 'tip', 'today', 'training', 'travel', 'true', 'truth', 'try', 'trying', 'tv', 'tweet', 'tweeting', 'tweetmyjobs', 'twitter', 'uk', 'united', 'university', 'update', 'use', 'video', 'view', 'visit', 'voice', 'wan', 'want', 'war', 'watch', 'way', 'weather', 'web', 'website', 'welcome', 'west', 'white', 'wife', 'wine', 'winner', 'winning', 'woman', 'word', 'work', 'working', 'world', 'write', 'writer', 'writing', 'year', 'yo', 'york', 'young', 'youtube', 'youtuber']\n"
          ]
        }
      ]
    },
    {
      "cell_type": "markdown",
      "source": [
        "sparce matrix 1'lerden ve 0'lardan oluşur.\n",
        "\n",
        "Yukarıdaki cümlelerdeki unique kelimeler yan yana yazılır.\n",
        "\n",
        "'Merhaba ben okula geldim sen git döndüm'\n",
        "\n",
        "Birinci cümle için ilk 4 kelime birinci cümlede geçtiğinden 1 yazılır, diğer kelimeler geçmediğinden 0 yazılır.\n",
        "\n",
        "Bu işlem diğer cümleler için de aynıdır."
      ],
      "metadata": {
        "id": "qGw7axzPO0p2"
      }
    },
    {
      "cell_type": "markdown",
      "source": [
        "# **Text Classification**"
      ],
      "metadata": {
        "id": "c7QMweoNQ_g5"
      }
    },
    {
      "cell_type": "markdown",
      "source": [
        "Şu anda dataset kelimelerden oluşmaktadır."
      ],
      "metadata": {
        "id": "XFWSgloBRHue"
      }
    },
    {
      "cell_type": "code",
      "source": [
        "y = data.iloc[:,0].values #cinsiyet classı numpy array'e çevrilir.\n",
        "x = sparce_matrix"
      ],
      "metadata": {
        "id": "YrrdcMJ9SCHm"
      },
      "execution_count": null,
      "outputs": []
    },
    {
      "cell_type": "code",
      "source": [
        "#train test split\n",
        "from sklearn.model_selection import train_test_split\n",
        "x_train, x_test, y_train, y_test = train_test_split(x,y,test_size=0.1,random_state=42)"
      ],
      "metadata": {
        "id": "tpOASSnwSRwQ"
      },
      "execution_count": null,
      "outputs": []
    },
    {
      "cell_type": "markdown",
      "source": [
        "Naive Bayes algoritması kullanılacaktır."
      ],
      "metadata": {
        "id": "0R0z5R_ZTWCr"
      }
    },
    {
      "cell_type": "code",
      "source": [
        "#model fit\n",
        "from sklearn.naive_bayes import GaussianNB\n",
        "nb = GaussianNB()\n",
        "nb.fit(x_train,y_train)"
      ],
      "metadata": {
        "colab": {
          "base_uri": "https://localhost:8080/"
        },
        "id": "qEWfITZNTItN",
        "outputId": "b6fc3114-adfd-49a9-d530-c59b1814c7b3"
      },
      "execution_count": null,
      "outputs": [
        {
          "output_type": "execute_result",
          "data": {
            "text/plain": [
              "GaussianNB()"
            ]
          },
          "metadata": {},
          "execution_count": 111
        }
      ]
    },
    {
      "cell_type": "code",
      "source": [
        "#prediction\n",
        "y_pred = nb.predict(x_test)"
      ],
      "metadata": {
        "id": "Nl2_FNsuUAm2"
      },
      "execution_count": null,
      "outputs": []
    },
    {
      "cell_type": "code",
      "source": [
        "#accuracy\n",
        "from sklearn.metrics import accuracy_score\n",
        "accuracy = accuracy_score(y_test, y_pred)\n",
        "print(\"Accuracy of naive bayes classification: {}\".format(accuracy))"
      ],
      "metadata": {
        "colab": {
          "base_uri": "https://localhost:8080/"
        },
        "id": "xuvSilH-UOBK",
        "outputId": "d6ea59ca-05fb-4ab6-a070-09508186c389"
      },
      "execution_count": null,
      "outputs": [
        {
          "output_type": "stream",
          "name": "stdout",
          "text": [
            "Accuracy of naive bayes classification: 0.585335797905114\n"
          ]
        }
      ]
    },
    {
      "cell_type": "markdown",
      "source": [
        "Data 500 kelime kullanılarak train edilmişti. \n",
        "\n",
        "Burada kullanılan feature sayısıyla %58'lik bir doğruluk elde edilmiştir."
      ],
      "metadata": {
        "id": "1vS8vTN3VKMj"
      }
    }
  ]
}